{
  "nbformat": 4,
  "nbformat_minor": 0,
  "metadata": {
    "colab": {
      "provenance": [],
      "collapsed_sections": []
    },
    "kernelspec": {
      "name": "python3",
      "display_name": "Python 3"
    },
    "language_info": {
      "name": "python"
    }
  },
  "cells": [
    {
      "cell_type": "code",
      "execution_count": 82,
      "metadata": {
        "id": "FG1rAnHcX_6K"
      },
      "outputs": [],
      "source": [
        "#importing necessary tools\n",
        "import pandas as pd\n",
        "import matplotlib.pyplot as plt\n",
        "import seaborn as sns\n",
        "from sklearn.cluster import KMeans\n",
        "from sklearn.metrics import silhouette_score\n",
        "from sklearn.decomposition import PCA\n",
        "from sklearn.metrics import silhouette_score\n",
        "from sklearn.pipeline import make_pipeline\n",
        "from sklearn.preprocessing import StandardScaler\n",
        "import plotly.express as px\n",
        "from scipy.stats.mstats import trimmed_var"
      ]
    },
    {
      "cell_type": "code",
      "source": [
        "#function for loading and filtering columns based on our requirment\n",
        "def wrangle(filepath):\n",
        "  df=pd.read_csv(filepath,index_col='Customer Id')\n",
        "  mask=df['Income']<100\n",
        "  df=df[mask]\n",
        "  return df"
      ],
      "metadata": {
        "id": "4TRqfSzIvZIO"
      },
      "execution_count": 93,
      "outputs": []
    },
    {
      "cell_type": "code",
      "source": [
        "df=wrangle(\"/content/drive/MyDrive/Customer segmentation /Customer_Segmentation.csv\")"
      ],
      "metadata": {
        "id": "6hPJ5QzUv9-t"
      },
      "execution_count": 94,
      "outputs": []
    },
    {
      "cell_type": "code",
      "source": [
        "df.tail()"
      ],
      "metadata": {
        "colab": {
          "base_uri": "https://localhost:8080/",
          "height": 237
        },
        "id": "dgSfwcOKYYNY",
        "outputId": "6f5aaac4-bfac-4db7-8ff4-5f3ec8ccc7a5"
      },
      "execution_count": 76,
      "outputs": [
        {
          "output_type": "execute_result",
          "data": {
            "text/plain": [
              "             Age  Edu  Years Employed  Income  Card Debt  Other Debt  \\\n",
              "Customer Id                                                            \n",
              "846           27    1               5      26      0.548       1.220   \n",
              "847           28    2               7      34      0.359       2.021   \n",
              "848           25    4               0      18      2.802       3.210   \n",
              "849           32    1              12      28      0.116       0.696   \n",
              "850           52    1              16      64      1.866       3.638   \n",
              "\n",
              "             Defaulted Address  DebtIncomeRatio  \n",
              "Customer Id                                      \n",
              "846                NaN  NBA007              6.8  \n",
              "847                0.0  NBA002              7.0  \n",
              "848                1.0  NBA001             33.4  \n",
              "849                0.0  NBA012              2.9  \n",
              "850                0.0  NBA025              8.6  "
            ],
            "text/html": [
              "\n",
              "  <div id=\"df-5d1d9d97-affc-4bd7-b910-029063db976d\">\n",
              "    <div class=\"colab-df-container\">\n",
              "      <div>\n",
              "<style scoped>\n",
              "    .dataframe tbody tr th:only-of-type {\n",
              "        vertical-align: middle;\n",
              "    }\n",
              "\n",
              "    .dataframe tbody tr th {\n",
              "        vertical-align: top;\n",
              "    }\n",
              "\n",
              "    .dataframe thead th {\n",
              "        text-align: right;\n",
              "    }\n",
              "</style>\n",
              "<table border=\"1\" class=\"dataframe\">\n",
              "  <thead>\n",
              "    <tr style=\"text-align: right;\">\n",
              "      <th></th>\n",
              "      <th>Age</th>\n",
              "      <th>Edu</th>\n",
              "      <th>Years Employed</th>\n",
              "      <th>Income</th>\n",
              "      <th>Card Debt</th>\n",
              "      <th>Other Debt</th>\n",
              "      <th>Defaulted</th>\n",
              "      <th>Address</th>\n",
              "      <th>DebtIncomeRatio</th>\n",
              "    </tr>\n",
              "    <tr>\n",
              "      <th>Customer Id</th>\n",
              "      <th></th>\n",
              "      <th></th>\n",
              "      <th></th>\n",
              "      <th></th>\n",
              "      <th></th>\n",
              "      <th></th>\n",
              "      <th></th>\n",
              "      <th></th>\n",
              "      <th></th>\n",
              "    </tr>\n",
              "  </thead>\n",
              "  <tbody>\n",
              "    <tr>\n",
              "      <th>846</th>\n",
              "      <td>27</td>\n",
              "      <td>1</td>\n",
              "      <td>5</td>\n",
              "      <td>26</td>\n",
              "      <td>0.548</td>\n",
              "      <td>1.220</td>\n",
              "      <td>NaN</td>\n",
              "      <td>NBA007</td>\n",
              "      <td>6.8</td>\n",
              "    </tr>\n",
              "    <tr>\n",
              "      <th>847</th>\n",
              "      <td>28</td>\n",
              "      <td>2</td>\n",
              "      <td>7</td>\n",
              "      <td>34</td>\n",
              "      <td>0.359</td>\n",
              "      <td>2.021</td>\n",
              "      <td>0.0</td>\n",
              "      <td>NBA002</td>\n",
              "      <td>7.0</td>\n",
              "    </tr>\n",
              "    <tr>\n",
              "      <th>848</th>\n",
              "      <td>25</td>\n",
              "      <td>4</td>\n",
              "      <td>0</td>\n",
              "      <td>18</td>\n",
              "      <td>2.802</td>\n",
              "      <td>3.210</td>\n",
              "      <td>1.0</td>\n",
              "      <td>NBA001</td>\n",
              "      <td>33.4</td>\n",
              "    </tr>\n",
              "    <tr>\n",
              "      <th>849</th>\n",
              "      <td>32</td>\n",
              "      <td>1</td>\n",
              "      <td>12</td>\n",
              "      <td>28</td>\n",
              "      <td>0.116</td>\n",
              "      <td>0.696</td>\n",
              "      <td>0.0</td>\n",
              "      <td>NBA012</td>\n",
              "      <td>2.9</td>\n",
              "    </tr>\n",
              "    <tr>\n",
              "      <th>850</th>\n",
              "      <td>52</td>\n",
              "      <td>1</td>\n",
              "      <td>16</td>\n",
              "      <td>64</td>\n",
              "      <td>1.866</td>\n",
              "      <td>3.638</td>\n",
              "      <td>0.0</td>\n",
              "      <td>NBA025</td>\n",
              "      <td>8.6</td>\n",
              "    </tr>\n",
              "  </tbody>\n",
              "</table>\n",
              "</div>\n",
              "      <button class=\"colab-df-convert\" onclick=\"convertToInteractive('df-5d1d9d97-affc-4bd7-b910-029063db976d')\"\n",
              "              title=\"Convert this dataframe to an interactive table.\"\n",
              "              style=\"display:none;\">\n",
              "        \n",
              "  <svg xmlns=\"http://www.w3.org/2000/svg\" height=\"24px\"viewBox=\"0 0 24 24\"\n",
              "       width=\"24px\">\n",
              "    <path d=\"M0 0h24v24H0V0z\" fill=\"none\"/>\n",
              "    <path d=\"M18.56 5.44l.94 2.06.94-2.06 2.06-.94-2.06-.94-.94-2.06-.94 2.06-2.06.94zm-11 1L8.5 8.5l.94-2.06 2.06-.94-2.06-.94L8.5 2.5l-.94 2.06-2.06.94zm10 10l.94 2.06.94-2.06 2.06-.94-2.06-.94-.94-2.06-.94 2.06-2.06.94z\"/><path d=\"M17.41 7.96l-1.37-1.37c-.4-.4-.92-.59-1.43-.59-.52 0-1.04.2-1.43.59L10.3 9.45l-7.72 7.72c-.78.78-.78 2.05 0 2.83L4 21.41c.39.39.9.59 1.41.59.51 0 1.02-.2 1.41-.59l7.78-7.78 2.81-2.81c.8-.78.8-2.07 0-2.86zM5.41 20L4 18.59l7.72-7.72 1.47 1.35L5.41 20z\"/>\n",
              "  </svg>\n",
              "      </button>\n",
              "      \n",
              "  <style>\n",
              "    .colab-df-container {\n",
              "      display:flex;\n",
              "      flex-wrap:wrap;\n",
              "      gap: 12px;\n",
              "    }\n",
              "\n",
              "    .colab-df-convert {\n",
              "      background-color: #E8F0FE;\n",
              "      border: none;\n",
              "      border-radius: 50%;\n",
              "      cursor: pointer;\n",
              "      display: none;\n",
              "      fill: #1967D2;\n",
              "      height: 32px;\n",
              "      padding: 0 0 0 0;\n",
              "      width: 32px;\n",
              "    }\n",
              "\n",
              "    .colab-df-convert:hover {\n",
              "      background-color: #E2EBFA;\n",
              "      box-shadow: 0px 1px 2px rgba(60, 64, 67, 0.3), 0px 1px 3px 1px rgba(60, 64, 67, 0.15);\n",
              "      fill: #174EA6;\n",
              "    }\n",
              "\n",
              "    [theme=dark] .colab-df-convert {\n",
              "      background-color: #3B4455;\n",
              "      fill: #D2E3FC;\n",
              "    }\n",
              "\n",
              "    [theme=dark] .colab-df-convert:hover {\n",
              "      background-color: #434B5C;\n",
              "      box-shadow: 0px 1px 3px 1px rgba(0, 0, 0, 0.15);\n",
              "      filter: drop-shadow(0px 1px 2px rgba(0, 0, 0, 0.3));\n",
              "      fill: #FFFFFF;\n",
              "    }\n",
              "  </style>\n",
              "\n",
              "      <script>\n",
              "        const buttonEl =\n",
              "          document.querySelector('#df-5d1d9d97-affc-4bd7-b910-029063db976d button.colab-df-convert');\n",
              "        buttonEl.style.display =\n",
              "          google.colab.kernel.accessAllowed ? 'block' : 'none';\n",
              "\n",
              "        async function convertToInteractive(key) {\n",
              "          const element = document.querySelector('#df-5d1d9d97-affc-4bd7-b910-029063db976d');\n",
              "          const dataTable =\n",
              "            await google.colab.kernel.invokeFunction('convertToInteractive',\n",
              "                                                     [key], {});\n",
              "          if (!dataTable) return;\n",
              "\n",
              "          const docLinkHtml = 'Like what you see? Visit the ' +\n",
              "            '<a target=\"_blank\" href=https://colab.research.google.com/notebooks/data_table.ipynb>data table notebook</a>'\n",
              "            + ' to learn more about interactive tables.';\n",
              "          element.innerHTML = '';\n",
              "          dataTable['output_type'] = 'display_data';\n",
              "          await google.colab.output.renderOutput(dataTable, element);\n",
              "          const docLink = document.createElement('div');\n",
              "          docLink.innerHTML = docLinkHtml;\n",
              "          element.appendChild(docLink);\n",
              "        }\n",
              "      </script>\n",
              "    </div>\n",
              "  </div>\n",
              "  "
            ]
          },
          "metadata": {},
          "execution_count": 76
        }
      ]
    },
    {
      "cell_type": "code",
      "source": [
        "# how many unique categories are in hear    \n",
        "df.select_dtypes('object').nunique()"
      ],
      "metadata": {
        "colab": {
          "base_uri": "https://localhost:8080/"
        },
        "id": "THz5tezHYbj3",
        "outputId": "767e566c-9095-4be8-dc57-3da06d2fd2c0"
      },
      "execution_count": 27,
      "outputs": [
        {
          "output_type": "execute_result",
          "data": {
            "text/plain": [
              "Address    31\n",
              "dtype: int64"
            ]
          },
          "metadata": {},
          "execution_count": 27
        }
      ]
    },
    {
      "cell_type": "code",
      "source": [
        "#check for missing value in our columns\n",
        "df.isnull().sum()"
      ],
      "metadata": {
        "colab": {
          "base_uri": "https://localhost:8080/"
        },
        "id": "gw-xQGYkZcaW",
        "outputId": "3f741174-21af-4b25-94ee-4ab96e2723f4"
      },
      "execution_count": 28,
      "outputs": [
        {
          "output_type": "execute_result",
          "data": {
            "text/plain": [
              "Customer Id          0\n",
              "Age                  0\n",
              "Edu                  0\n",
              "Years Employed       0\n",
              "Income               0\n",
              "Card Debt            0\n",
              "Other Debt           0\n",
              "Defaulted          135\n",
              "Address              0\n",
              "DebtIncomeRatio      0\n",
              "dtype: int64"
            ]
          },
          "metadata": {},
          "execution_count": 28
        }
      ]
    },
    {
      "cell_type": "code",
      "source": [
        "#histogram of age ,distribution of our age column\n",
        "df.hist(['Age'],bins=10)"
      ],
      "metadata": {
        "colab": {
          "base_uri": "https://localhost:8080/",
          "height": 318
        },
        "id": "EVipuTrRaCUe",
        "outputId": "2d0a6091-9e0c-4d25-f177-3622df90f6e2"
      },
      "execution_count": 29,
      "outputs": [
        {
          "output_type": "execute_result",
          "data": {
            "text/plain": [
              "array([[<matplotlib.axes._subplots.AxesSubplot object at 0x7ff1c9db5510>]],\n",
              "      dtype=object)"
            ]
          },
          "metadata": {},
          "execution_count": 29
        },
        {
          "output_type": "display_data",
          "data": {
            "text/plain": [
              "<Figure size 432x288 with 1 Axes>"
            ],
            "image/png": "[encoded data removed]"
          },
          "metadata": {
            "needs_background": "light"
          }
        }
      ]
    },
    {
      "cell_type": "code",
      "source": [
        "# finding mean,median,...for all umerical columns\n",
        "df.describe()"
      ],
      "metadata": {
        "colab": {
          "base_uri": "https://localhost:8080/",
          "height": 300
        },
        "id": "vGXZEQVlaswN",
        "outputId": "a263b8f3-c800-4df4-f205-11fa1345e960"
      },
      "execution_count": 30,
      "outputs": [
        {
          "output_type": "execute_result",
          "data": {
            "text/plain": [
              "       Customer Id         Age         Edu  Years Employed      Income  \\\n",
              "count   787.000000  787.000000  787.000000      787.000000  787.000000   \n",
              "mean    427.318933   34.278272    1.672173        7.645489   38.421855   \n",
              "std     245.615664    7.755328    0.897707        5.883311   19.261491   \n",
              "min       1.000000   20.000000    1.000000        0.000000   13.000000   \n",
              "25%     214.500000   28.000000    1.000000        3.000000   24.000000   \n",
              "50%     427.000000   34.000000    1.000000        7.000000   33.000000   \n",
              "75%     638.500000   39.000000    2.000000       11.500000   48.500000   \n",
              "max     850.000000   56.000000    5.000000       28.000000   99.000000   \n",
              "\n",
              "        Card Debt  Other Debt   Defaulted  DebtIncomeRatio  \n",
              "count  787.000000  787.000000  652.000000       787.000000  \n",
              "mean     1.329532    2.632489    0.268405        10.250445  \n",
              "std      1.582987    2.515123    0.443470         6.734429  \n",
              "min      0.012000    0.046000    0.000000         0.100000  \n",
              "25%      0.365500    1.002000    0.000000         5.200000  \n",
              "50%      0.827000    1.848000    0.000000         8.900000  \n",
              "75%      1.698000    3.369000    1.000000        13.950000  \n",
              "max     15.017000   20.616000    1.000000        41.300000  "
            ],
            "text/html": [
              "\n",
              "  <div id=\"df-01c7543a-99f4-4c1d-b1d3-09ed51bb9826\">\n",
              "    <div class=\"colab-df-container\">\n",
              "      <div>\n",
              "<style scoped>\n",
              "    .dataframe tbody tr th:only-of-type {\n",
              "        vertical-align: middle;\n",
              "    }\n",
              "\n",
              "    .dataframe tbody tr th {\n",
              "        vertical-align: top;\n",
              "    }\n",
              "\n",
              "    .dataframe thead th {\n",
              "        text-align: right;\n",
              "    }\n",
              "</style>\n",
              "<table border=\"1\" class=\"dataframe\">\n",
              "  <thead>\n",
              "    <tr style=\"text-align: right;\">\n",
              "      <th></th>\n",
              "      <th>Customer Id</th>\n",
              "      <th>Age</th>\n",
              "      <th>Edu</th>\n",
              "      <th>Years Employed</th>\n",
              "      <th>Income</th>\n",
              "      <th>Card Debt</th>\n",
              "      <th>Other Debt</th>\n",
              "      <th>Defaulted</th>\n",
              "      <th>DebtIncomeRatio</th>\n",
              "    </tr>\n",
              "  </thead>\n",
              "  <tbody>\n",
              "    <tr>\n",
              "      <th>count</th>\n",
              "      <td>787.000000</td>\n",
              "      <td>787.000000</td>\n",
              "      <td>787.000000</td>\n",
              "      <td>787.000000</td>\n",
              "      <td>787.000000</td>\n",
              "      <td>787.000000</td>\n",
              "      <td>787.000000</td>\n",
              "      <td>652.000000</td>\n",
              "      <td>787.000000</td>\n",
              "    </tr>\n",
              "    <tr>\n",
              "      <th>mean</th>\n",
              "      <td>427.318933</td>\n",
              "      <td>34.278272</td>\n",
              "      <td>1.672173</td>\n",
              "      <td>7.645489</td>\n",
              "      <td>38.421855</td>\n",
              "      <td>1.329532</td>\n",
              "      <td>2.632489</td>\n",
              "      <td>0.268405</td>\n",
              "      <td>10.250445</td>\n",
              "    </tr>\n",
              "    <tr>\n",
              "      <th>std</th>\n",
              "      <td>245.615664</td>\n",
              "      <td>7.755328</td>\n",
              "      <td>0.897707</td>\n",
              "      <td>5.883311</td>\n",
              "      <td>19.261491</td>\n",
              "      <td>1.582987</td>\n",
              "      <td>2.515123</td>\n",
              "      <td>0.443470</td>\n",
              "      <td>6.734429</td>\n",
              "    </tr>\n",
              "    <tr>\n",
              "      <th>min</th>\n",
              "      <td>1.000000</td>\n",
              "      <td>20.000000</td>\n",
              "      <td>1.000000</td>\n",
              "      <td>0.000000</td>\n",
              "      <td>13.000000</td>\n",
              "      <td>0.012000</td>\n",
              "      <td>0.046000</td>\n",
              "      <td>0.000000</td>\n",
              "      <td>0.100000</td>\n",
              "    </tr>\n",
              "    <tr>\n",
              "      <th>25%</th>\n",
              "      <td>214.500000</td>\n",
              "      <td>28.000000</td>\n",
              "      <td>1.000000</td>\n",
              "      <td>3.000000</td>\n",
              "      <td>24.000000</td>\n",
              "      <td>0.365500</td>\n",
              "      <td>1.002000</td>\n",
              "      <td>0.000000</td>\n",
              "      <td>5.200000</td>\n",
              "    </tr>\n",
              "    <tr>\n",
              "      <th>50%</th>\n",
              "      <td>427.000000</td>\n",
              "      <td>34.000000</td>\n",
              "      <td>1.000000</td>\n",
              "      <td>7.000000</td>\n",
              "      <td>33.000000</td>\n",
              "      <td>0.827000</td>\n",
              "      <td>1.848000</td>\n",
              "      <td>0.000000</td>\n",
              "      <td>8.900000</td>\n",
              "    </tr>\n",
              "    <tr>\n",
              "      <th>75%</th>\n",
              "      <td>638.500000</td>\n",
              "      <td>39.000000</td>\n",
              "      <td>2.000000</td>\n",
              "      <td>11.500000</td>\n",
              "      <td>48.500000</td>\n",
              "      <td>1.698000</td>\n",
              "      <td>3.369000</td>\n",
              "      <td>1.000000</td>\n",
              "      <td>13.950000</td>\n",
              "    </tr>\n",
              "    <tr>\n",
              "      <th>max</th>\n",
              "      <td>850.000000</td>\n",
              "      <td>56.000000</td>\n",
              "      <td>5.000000</td>\n",
              "      <td>28.000000</td>\n",
              "      <td>99.000000</td>\n",
              "      <td>15.017000</td>\n",
              "      <td>20.616000</td>\n",
              "      <td>1.000000</td>\n",
              "      <td>41.300000</td>\n",
              "    </tr>\n",
              "  </tbody>\n",
              "</table>\n",
              "</div>\n",
              "      <button class=\"colab-df-convert\" onclick=\"convertToInteractive('df-01c7543a-99f4-4c1d-b1d3-09ed51bb9826')\"\n",
              "              title=\"Convert this dataframe to an interactive table.\"\n",
              "              style=\"display:none;\">\n",
              "        \n",
              "  <svg xmlns=\"http://www.w3.org/2000/svg\" height=\"24px\"viewBox=\"0 0 24 24\"\n",
              "       width=\"24px\">\n",
              "    <path d=\"M0 0h24v24H0V0z\" fill=\"none\"/>\n",
              "    <path d=\"M18.56 5.44l.94 2.06.94-2.06 2.06-.94-2.06-.94-.94-2.06-.94 2.06-2.06.94zm-11 1L8.5 8.5l.94-2.06 2.06-.94-2.06-.94L8.5 2.5l-.94 2.06-2.06.94zm10 10l.94 2.06.94-2.06 2.06-.94-2.06-.94-.94-2.06-.94 2.06-2.06.94z\"/><path d=\"M17.41 7.96l-1.37-1.37c-.4-.4-.92-.59-1.43-.59-.52 0-1.04.2-1.43.59L10.3 9.45l-7.72 7.72c-.78.78-.78 2.05 0 2.83L4 21.41c.39.39.9.59 1.41.59.51 0 1.02-.2 1.41-.59l7.78-7.78 2.81-2.81c.8-.78.8-2.07 0-2.86zM5.41 20L4 18.59l7.72-7.72 1.47 1.35L5.41 20z\"/>\n",
              "  </svg>\n",
              "      </button>\n",
              "      \n",
              "  <style>\n",
              "    .colab-df-container {\n",
              "      display:flex;\n",
              "      flex-wrap:wrap;\n",
              "      gap: 12px;\n",
              "    }\n",
              "\n",
              "    .colab-df-convert {\n",
              "      background-color: #E8F0FE;\n",
              "      border: none;\n",
              "      border-radius: 50%;\n",
              "      cursor: pointer;\n",
              "      display: none;\n",
              "      fill: #1967D2;\n",
              "      height: 32px;\n",
              "      padding: 0 0 0 0;\n",
              "      width: 32px;\n",
              "    }\n",
              "\n",
              "    .colab-df-convert:hover {\n",
              "      background-color: #E2EBFA;\n",
              "      box-shadow: 0px 1px 2px rgba(60, 64, 67, 0.3), 0px 1px 3px 1px rgba(60, 64, 67, 0.15);\n",
              "      fill: #174EA6;\n",
              "    }\n",
              "\n",
              "    [theme=dark] .colab-df-convert {\n",
              "      background-color: #3B4455;\n",
              "      fill: #D2E3FC;\n",
              "    }\n",
              "\n",
              "    [theme=dark] .colab-df-convert:hover {\n",
              "      background-color: #434B5C;\n",
              "      box-shadow: 0px 1px 3px 1px rgba(0, 0, 0, 0.15);\n",
              "      filter: drop-shadow(0px 1px 2px rgba(0, 0, 0, 0.3));\n",
              "      fill: #FFFFFF;\n",
              "    }\n",
              "  </style>\n",
              "\n",
              "      <script>\n",
              "        const buttonEl =\n",
              "          document.querySelector('#df-01c7543a-99f4-4c1d-b1d3-09ed51bb9826 button.colab-df-convert');\n",
              "        buttonEl.style.display =\n",
              "          google.colab.kernel.accessAllowed ? 'block' : 'none';\n",
              "\n",
              "        async function convertToInteractive(key) {\n",
              "          const element = document.querySelector('#df-01c7543a-99f4-4c1d-b1d3-09ed51bb9826');\n",
              "          const dataTable =\n",
              "            await google.colab.kernel.invokeFunction('convertToInteractive',\n",
              "                                                     [key], {});\n",
              "          if (!dataTable) return;\n",
              "\n",
              "          const docLinkHtml = 'Like what you see? Visit the ' +\n",
              "            '<a target=\"_blank\" href=https://colab.research.google.com/notebooks/data_table.ipynb>data table notebook</a>'\n",
              "            + ' to learn more about interactive tables.';\n",
              "          element.innerHTML = '';\n",
              "          dataTable['output_type'] = 'display_data';\n",
              "          await google.colab.output.renderOutput(dataTable, element);\n",
              "          const docLink = document.createElement('div');\n",
              "          docLink.innerHTML = docLinkHtml;\n",
              "          element.appendChild(docLink);\n",
              "        }\n",
              "      </script>\n",
              "    </div>\n",
              "  </div>\n",
              "  "
            ]
          },
          "metadata": {},
          "execution_count": 30
        }
      ]
    },
    {
      "cell_type": "code",
      "source": [
        "#we can still see some outliers in our income data.\n",
        "df.boxplot(column=['Income'])"
      ],
      "metadata": {
        "colab": {
          "base_uri": "https://localhost:8080/",
          "height": 283
        },
        "id": "5j5dUiJBcziK",
        "outputId": "f408cb0d-322b-4026-fb2e-c318bec1393f"
      },
      "execution_count": 31,
      "outputs": [
        {
          "output_type": "execute_result",
          "data": {
            "text/plain": [
              "<matplotlib.axes._subplots.AxesSubplot at 0x7ff1c7794890>"
            ]
          },
          "metadata": {},
          "execution_count": 31
        },
        {
          "output_type": "display_data",
          "data": {
            "text/plain": [
              "<Figure size 432x288 with 1 Axes>"
            ],
            "image/png": "[encoded data removed]"
          },
          "metadata": {
            "needs_background": "light"
          }
        }
      ]
    },
    {
      "cell_type": "code",
      "source": [
        "cols=['Other Debt','Defaulted','DebtIncomeRatio','Income','Card Debt']\n",
        "corr=df[cols].corr()\n",
        "corr"
      ],
      "metadata": {
        "colab": {
          "base_uri": "https://localhost:8080/",
          "height": 206
        },
        "id": "y9bMUfH6eDF4",
        "outputId": "b2cad59a-d15b-4933-cb87-bf0fae973f70"
      },
      "execution_count": 39,
      "outputs": [
        {
          "output_type": "execute_result",
          "data": {
            "text/plain": [
              "                 Other Debt  Defaulted  DebtIncomeRatio    Income  Card Debt\n",
              "Other Debt         1.000000   0.153753         0.701572  0.528036   0.551426\n",
              "Defaulted          0.153753   1.000000         0.374764 -0.124082   0.237245\n",
              "DebtIncomeRatio    0.701572   0.374764         1.000000  0.018226   0.615355\n",
              "Income             0.528036  -0.124082         0.018226  1.000000   0.445212\n",
              "Card Debt          0.551426   0.237245         0.615355  0.445212   1.000000"
            ],
            "text/html": [
              "\n",
              "  <div id=\"df-b48fd146-e285-46a6-a338-1c71815b3303\">\n",
              "    <div class=\"colab-df-container\">\n",
              "      <div>\n",
              "<style scoped>\n",
              "    .dataframe tbody tr th:only-of-type {\n",
              "        vertical-align: middle;\n",
              "    }\n",
              "\n",
              "    .dataframe tbody tr th {\n",
              "        vertical-align: top;\n",
              "    }\n",
              "\n",
              "    .dataframe thead th {\n",
              "        text-align: right;\n",
              "    }\n",
              "</style>\n",
              "<table border=\"1\" class=\"dataframe\">\n",
              "  <thead>\n",
              "    <tr style=\"text-align: right;\">\n",
              "      <th></th>\n",
              "      <th>Other Debt</th>\n",
              "      <th>Defaulted</th>\n",
              "      <th>DebtIncomeRatio</th>\n",
              "      <th>Income</th>\n",
              "      <th>Card Debt</th>\n",
              "    </tr>\n",
              "  </thead>\n",
              "  <tbody>\n",
              "    <tr>\n",
              "      <th>Other Debt</th>\n",
              "      <td>1.000000</td>\n",
              "      <td>0.153753</td>\n",
              "      <td>0.701572</td>\n",
              "      <td>0.528036</td>\n",
              "      <td>0.551426</td>\n",
              "    </tr>\n",
              "    <tr>\n",
              "      <th>Defaulted</th>\n",
              "      <td>0.153753</td>\n",
              "      <td>1.000000</td>\n",
              "      <td>0.374764</td>\n",
              "      <td>-0.124082</td>\n",
              "      <td>0.237245</td>\n",
              "    </tr>\n",
              "    <tr>\n",
              "      <th>DebtIncomeRatio</th>\n",
              "      <td>0.701572</td>\n",
              "      <td>0.374764</td>\n",
              "      <td>1.000000</td>\n",
              "      <td>0.018226</td>\n",
              "      <td>0.615355</td>\n",
              "    </tr>\n",
              "    <tr>\n",
              "      <th>Income</th>\n",
              "      <td>0.528036</td>\n",
              "      <td>-0.124082</td>\n",
              "      <td>0.018226</td>\n",
              "      <td>1.000000</td>\n",
              "      <td>0.445212</td>\n",
              "    </tr>\n",
              "    <tr>\n",
              "      <th>Card Debt</th>\n",
              "      <td>0.551426</td>\n",
              "      <td>0.237245</td>\n",
              "      <td>0.615355</td>\n",
              "      <td>0.445212</td>\n",
              "      <td>1.000000</td>\n",
              "    </tr>\n",
              "  </tbody>\n",
              "</table>\n",
              "</div>\n",
              "      <button class=\"colab-df-convert\" onclick=\"convertToInteractive('df-b48fd146-e285-46a6-a338-1c71815b3303')\"\n",
              "              title=\"Convert this dataframe to an interactive table.\"\n",
              "              style=\"display:none;\">\n",
              "        \n",
              "  <svg xmlns=\"http://www.w3.org/2000/svg\" height=\"24px\"viewBox=\"0 0 24 24\"\n",
              "       width=\"24px\">\n",
              "    <path d=\"M0 0h24v24H0V0z\" fill=\"none\"/>\n",
              "    <path d=\"M18.56 5.44l.94 2.06.94-2.06 2.06-.94-2.06-.94-.94-2.06-.94 2.06-2.06.94zm-11 1L8.5 8.5l.94-2.06 2.06-.94-2.06-.94L8.5 2.5l-.94 2.06-2.06.94zm10 10l.94 2.06.94-2.06 2.06-.94-2.06-.94-.94-2.06-.94 2.06-2.06.94z\"/><path d=\"M17.41 7.96l-1.37-1.37c-.4-.4-.92-.59-1.43-.59-.52 0-1.04.2-1.43.59L10.3 9.45l-7.72 7.72c-.78.78-.78 2.05 0 2.83L4 21.41c.39.39.9.59 1.41.59.51 0 1.02-.2 1.41-.59l7.78-7.78 2.81-2.81c.8-.78.8-2.07 0-2.86zM5.41 20L4 18.59l7.72-7.72 1.47 1.35L5.41 20z\"/>\n",
              "  </svg>\n",
              "      </button>\n",
              "      \n",
              "  <style>\n",
              "    .colab-df-container {\n",
              "      display:flex;\n",
              "      flex-wrap:wrap;\n",
              "      gap: 12px;\n",
              "    }\n",
              "\n",
              "    .colab-df-convert {\n",
              "      background-color: #E8F0FE;\n",
              "      border: none;\n",
              "      border-radius: 50%;\n",
              "      cursor: pointer;\n",
              "      display: none;\n",
              "      fill: #1967D2;\n",
              "      height: 32px;\n",
              "      padding: 0 0 0 0;\n",
              "      width: 32px;\n",
              "    }\n",
              "\n",
              "    .colab-df-convert:hover {\n",
              "      background-color: #E2EBFA;\n",
              "      box-shadow: 0px 1px 2px rgba(60, 64, 67, 0.3), 0px 1px 3px 1px rgba(60, 64, 67, 0.15);\n",
              "      fill: #174EA6;\n",
              "    }\n",
              "\n",
              "    [theme=dark] .colab-df-convert {\n",
              "      background-color: #3B4455;\n",
              "      fill: #D2E3FC;\n",
              "    }\n",
              "\n",
              "    [theme=dark] .colab-df-convert:hover {\n",
              "      background-color: #434B5C;\n",
              "      box-shadow: 0px 1px 3px 1px rgba(0, 0, 0, 0.15);\n",
              "      filter: drop-shadow(0px 1px 2px rgba(0, 0, 0, 0.3));\n",
              "      fill: #FFFFFF;\n",
              "    }\n",
              "  </style>\n",
              "\n",
              "      <script>\n",
              "        const buttonEl =\n",
              "          document.querySelector('#df-b48fd146-e285-46a6-a338-1c71815b3303 button.colab-df-convert');\n",
              "        buttonEl.style.display =\n",
              "          google.colab.kernel.accessAllowed ? 'block' : 'none';\n",
              "\n",
              "        async function convertToInteractive(key) {\n",
              "          const element = document.querySelector('#df-b48fd146-e285-46a6-a338-1c71815b3303');\n",
              "          const dataTable =\n",
              "            await google.colab.kernel.invokeFunction('convertToInteractive',\n",
              "                                                     [key], {});\n",
              "          if (!dataTable) return;\n",
              "\n",
              "          const docLinkHtml = 'Like what you see? Visit the ' +\n",
              "            '<a target=\"_blank\" href=https://colab.research.google.com/notebooks/data_table.ipynb>data table notebook</a>'\n",
              "            + ' to learn more about interactive tables.';\n",
              "          element.innerHTML = '';\n",
              "          dataTable['output_type'] = 'display_data';\n",
              "          await google.colab.output.renderOutput(dataTable, element);\n",
              "          const docLink = document.createElement('div');\n",
              "          docLink.innerHTML = docLinkHtml;\n",
              "          element.appendChild(docLink);\n",
              "        }\n",
              "      </script>\n",
              "    </div>\n",
              "  </div>\n",
              "  "
            ]
          },
          "metadata": {},
          "execution_count": 39
        }
      ]
    },
    {
      "cell_type": "code",
      "source": [
        "#visualizing corrlation\n",
        "dataplot = sns.heatmap(corr, cmap=\"YlGnBu\", annot=True);\n",
        "dataplot"
      ],
      "metadata": {
        "colab": {
          "base_uri": "https://localhost:8080/",
          "height": 363
        },
        "id": "dP7lBzzKx_3Q",
        "outputId": "13a4f9f3-2eab-4dec-ab22-df97914b17d7"
      },
      "execution_count": 42,
      "outputs": [
        {
          "output_type": "execute_result",
          "data": {
            "text/plain": [
              "<matplotlib.axes._subplots.AxesSubplot at 0x7ff1ac3543d0>"
            ]
          },
          "metadata": {},
          "execution_count": 42
        },
        {
          "output_type": "display_data",
          "data": {
            "text/plain": [
              "<Figure size 432x288 with 2 Axes>"
            ],
            "image/png": "[encoded data removed]"
          },
          "metadata": {
            "needs_background": "light"
          }
        }
      ]
    },
    {
      "cell_type": "markdown",
      "source": [
        "#Scatterplot "
      ],
      "metadata": {
        "id": "JmYdvEZd5faK"
      }
    },
    {
      "cell_type": "code",
      "source": [
        "#scatter plot age vs income\n",
        "df.plot.scatter(x=\"Age\",y=\"Income\");"
      ],
      "metadata": {
        "colab": {
          "base_uri": "https://localhost:8080/",
          "height": 279
        },
        "id": "50Y1FH6Kyr5v",
        "outputId": "c7cff6b0-bf8d-4416-87c8-59618f47fbcc"
      },
      "execution_count": 43,
      "outputs": [
        {
          "output_type": "display_data",
          "data": {
            "text/plain": [
              "<Figure size 432x288 with 1 Axes>"
            ],
            "image/png": "[encoded data removed]"
          },
          "metadata": {
            "needs_background": "light"
          }
        }
      ]
    },
    {
      "cell_type": "code",
      "source": [
        "# scatter plot between debtIncomeratio vs income\n",
        "df.plot.scatter(x=\"DebtIncomeRatio\",y=\"Income\");"
      ],
      "metadata": {
        "colab": {
          "base_uri": "https://localhost:8080/",
          "height": 279
        },
        "id": "0Zt-S_XV5pfn",
        "outputId": "69509cee-03bf-4416-ef52-de64082175c7"
      },
      "execution_count": 45,
      "outputs": [
        {
          "output_type": "display_data",
          "data": {
            "text/plain": [
              "<Figure size 432x288 with 1 Axes>"
            ],
            "image/png": "[encoded data removed]"
          },
          "metadata": {
            "needs_background": "light"
          }
        }
      ]
    },
    {
      "cell_type": "markdown",
      "source": [
        "#clustering based on 2 features"
      ],
      "metadata": {
        "id": "LRspSos46lYY"
      }
    },
    {
      "cell_type": "code",
      "source": [
        "#first split our data\n",
        "X =  df[[\"Income\",\"DebtIncomeRatio\"]]\n",
        "print(X.shape)\n",
        "X.head()"
      ],
      "metadata": {
        "colab": {
          "base_uri": "https://localhost:8080/",
          "height": 224
        },
        "id": "m7eZuIOV59e_",
        "outputId": "ceb151e2-ce39-43a9-e07e-f6d755f05d6d"
      },
      "execution_count": 46,
      "outputs": [
        {
          "output_type": "stream",
          "name": "stdout",
          "text": [
            "(787, 2)\n"
          ]
        },
        {
          "output_type": "execute_result",
          "data": {
            "text/plain": [
              "   Income  DebtIncomeRatio\n",
              "0      19              6.3\n",
              "2      57             20.9\n",
              "3      19              6.3\n",
              "5      81             10.9\n",
              "6      56              1.6"
            ],
            "text/html": [
              "\n",
              "  <div id=\"df-dd1b30c9-0fae-4dd2-b237-4f0a12e18662\">\n",
              "    <div class=\"colab-df-container\">\n",
              "      <div>\n",
              "<style scoped>\n",
              "    .dataframe tbody tr th:only-of-type {\n",
              "        vertical-align: middle;\n",
              "    }\n",
              "\n",
              "    .dataframe tbody tr th {\n",
              "        vertical-align: top;\n",
              "    }\n",
              "\n",
              "    .dataframe thead th {\n",
              "        text-align: right;\n",
              "    }\n",
              "</style>\n",
              "<table border=\"1\" class=\"dataframe\">\n",
              "  <thead>\n",
              "    <tr style=\"text-align: right;\">\n",
              "      <th></th>\n",
              "      <th>Income</th>\n",
              "      <th>DebtIncomeRatio</th>\n",
              "    </tr>\n",
              "  </thead>\n",
              "  <tbody>\n",
              "    <tr>\n",
              "      <th>0</th>\n",
              "      <td>19</td>\n",
              "      <td>6.3</td>\n",
              "    </tr>\n",
              "    <tr>\n",
              "      <th>2</th>\n",
              "      <td>57</td>\n",
              "      <td>20.9</td>\n",
              "    </tr>\n",
              "    <tr>\n",
              "      <th>3</th>\n",
              "      <td>19</td>\n",
              "      <td>6.3</td>\n",
              "    </tr>\n",
              "    <tr>\n",
              "      <th>5</th>\n",
              "      <td>81</td>\n",
              "      <td>10.9</td>\n",
              "    </tr>\n",
              "    <tr>\n",
              "      <th>6</th>\n",
              "      <td>56</td>\n",
              "      <td>1.6</td>\n",
              "    </tr>\n",
              "  </tbody>\n",
              "</table>\n",
              "</div>\n",
              "      <button class=\"colab-df-convert\" onclick=\"convertToInteractive('df-dd1b30c9-0fae-4dd2-b237-4f0a12e18662')\"\n",
              "              title=\"Convert this dataframe to an interactive table.\"\n",
              "              style=\"display:none;\">\n",
              "        \n",
              "  <svg xmlns=\"http://www.w3.org/2000/svg\" height=\"24px\"viewBox=\"0 0 24 24\"\n",
              "       width=\"24px\">\n",
              "    <path d=\"M0 0h24v24H0V0z\" fill=\"none\"/>\n",
              "    <path d=\"M18.56 5.44l.94 2.06.94-2.06 2.06-.94-2.06-.94-.94-2.06-.94 2.06-2.06.94zm-11 1L8.5 8.5l.94-2.06 2.06-.94-2.06-.94L8.5 2.5l-.94 2.06-2.06.94zm10 10l.94 2.06.94-2.06 2.06-.94-2.06-.94-.94-2.06-.94 2.06-2.06.94z\"/><path d=\"M17.41 7.96l-1.37-1.37c-.4-.4-.92-.59-1.43-.59-.52 0-1.04.2-1.43.59L10.3 9.45l-7.72 7.72c-.78.78-.78 2.05 0 2.83L4 21.41c.39.39.9.59 1.41.59.51 0 1.02-.2 1.41-.59l7.78-7.78 2.81-2.81c.8-.78.8-2.07 0-2.86zM5.41 20L4 18.59l7.72-7.72 1.47 1.35L5.41 20z\"/>\n",
              "  </svg>\n",
              "      </button>\n",
              "      \n",
              "  <style>\n",
              "    .colab-df-container {\n",
              "      display:flex;\n",
              "      flex-wrap:wrap;\n",
              "      gap: 12px;\n",
              "    }\n",
              "\n",
              "    .colab-df-convert {\n",
              "      background-color: #E8F0FE;\n",
              "      border: none;\n",
              "      border-radius: 50%;\n",
              "      cursor: pointer;\n",
              "      display: none;\n",
              "      fill: #1967D2;\n",
              "      height: 32px;\n",
              "      padding: 0 0 0 0;\n",
              "      width: 32px;\n",
              "    }\n",
              "\n",
              "    .colab-df-convert:hover {\n",
              "      background-color: #E2EBFA;\n",
              "      box-shadow: 0px 1px 2px rgba(60, 64, 67, 0.3), 0px 1px 3px 1px rgba(60, 64, 67, 0.15);\n",
              "      fill: #174EA6;\n",
              "    }\n",
              "\n",
              "    [theme=dark] .colab-df-convert {\n",
              "      background-color: #3B4455;\n",
              "      fill: #D2E3FC;\n",
              "    }\n",
              "\n",
              "    [theme=dark] .colab-df-convert:hover {\n",
              "      background-color: #434B5C;\n",
              "      box-shadow: 0px 1px 3px 1px rgba(0, 0, 0, 0.15);\n",
              "      filter: drop-shadow(0px 1px 2px rgba(0, 0, 0, 0.3));\n",
              "      fill: #FFFFFF;\n",
              "    }\n",
              "  </style>\n",
              "\n",
              "      <script>\n",
              "        const buttonEl =\n",
              "          document.querySelector('#df-dd1b30c9-0fae-4dd2-b237-4f0a12e18662 button.colab-df-convert');\n",
              "        buttonEl.style.display =\n",
              "          google.colab.kernel.accessAllowed ? 'block' : 'none';\n",
              "\n",
              "        async function convertToInteractive(key) {\n",
              "          const element = document.querySelector('#df-dd1b30c9-0fae-4dd2-b237-4f0a12e18662');\n",
              "          const dataTable =\n",
              "            await google.colab.kernel.invokeFunction('convertToInteractive',\n",
              "                                                     [key], {});\n",
              "          if (!dataTable) return;\n",
              "\n",
              "          const docLinkHtml = 'Like what you see? Visit the ' +\n",
              "            '<a target=\"_blank\" href=https://colab.research.google.com/notebooks/data_table.ipynb>data table notebook</a>'\n",
              "            + ' to learn more about interactive tables.';\n",
              "          element.innerHTML = '';\n",
              "          dataTable['output_type'] = 'display_data';\n",
              "          await google.colab.output.renderOutput(dataTable, element);\n",
              "          const docLink = document.createElement('div');\n",
              "          docLink.innerHTML = docLinkHtml;\n",
              "          element.appendChild(docLink);\n",
              "        }\n",
              "      </script>\n",
              "    </div>\n",
              "  </div>\n",
              "  "
            ]
          },
          "metadata": {},
          "execution_count": 46
        }
      ]
    },
    {
      "cell_type": "code",
      "source": [
        "# Build model\n",
        "model = KMeans(n_clusters=3,random_state=42)\n",
        "# Fit model to data\n",
        "model.fit(X)"
      ],
      "metadata": {
        "colab": {
          "base_uri": "https://localhost:8080/"
        },
        "id": "e8M3pdOY648u",
        "outputId": "72d8f160-03ab-4fca-9b89-de9e2ee3ea59"
      },
      "execution_count": 51,
      "outputs": [
        {
          "output_type": "execute_result",
          "data": {
            "text/plain": [
              "KMeans(n_clusters=3, random_state=42)"
            ]
          },
          "metadata": {},
          "execution_count": 51
        }
      ]
    },
    {
      "cell_type": "code",
      "source": [
        "#extractin the labels\n",
        "labels = model.labels_\n",
        "labels[:10]"
      ],
      "metadata": {
        "colab": {
          "base_uri": "https://localhost:8080/"
        },
        "id": "CXWLxobZ8ULE",
        "outputId": "474da678-ea38-472f-cc24-602e97c5c1f5"
      },
      "execution_count": 52,
      "outputs": [
        {
          "output_type": "execute_result",
          "data": {
            "text/plain": [
              "array([0, 1, 0, 2, 1, 2, 0, 2, 1, 0], dtype=int32)"
            ]
          },
          "metadata": {},
          "execution_count": 52
        }
      ]
    },
    {
      "cell_type": "code",
      "source": [
        "# Plot \"HOUSES\" vs \"DEBT\" with hue=label\n",
        "sns.scatterplot(x=df[\"Income\"],y=df[\"DebtIncomeRatio\"],hue=labels,palette=\"deep\"\n",
        "               \n",
        "               )"
      ],
      "metadata": {
        "colab": {
          "base_uri": "https://localhost:8080/",
          "height": 297
        },
        "id": "_PDj2wMj8e0U",
        "outputId": "6e91185f-0c38-4d66-b6e4-f2551508ba2d"
      },
      "execution_count": 53,
      "outputs": [
        {
          "output_type": "execute_result",
          "data": {
            "text/plain": [
              "<matplotlib.axes._subplots.AxesSubplot at 0x7ff1a02d3910>"
            ]
          },
          "metadata": {},
          "execution_count": 53
        },
        {
          "output_type": "display_data",
          "data": {
            "text/plain": [
              "<Figure size 432x288 with 1 Axes>"
            ],
            "image/png": "[encoded data removed]"
          },
          "metadata": {
            "needs_background": "light"
          }
        }
      ]
    },
    {
      "cell_type": "code",
      "source": [
        "#adding the extracting the centroid\n",
        "centroids = model.cluster_centers_\n",
        "centroids"
      ],
      "metadata": {
        "colab": {
          "base_uri": "https://localhost:8080/"
        },
        "id": "5kJw9CND82sD",
        "outputId": "b2d48734-a856-4ad7-862a-de286eefed84"
      },
      "execution_count": 54,
      "outputs": [
        {
          "output_type": "execute_result",
          "data": {
            "text/plain": [
              "array([[24.14251781, 10.1935867 ],\n",
              "       [44.48290598,  9.98931624],\n",
              "       [73.21969697, 10.89469697]])"
            ]
          },
          "metadata": {},
          "execution_count": 54
        }
      ]
    },
    {
      "cell_type": "code",
      "source": [
        "#adding the center in our scatterplot\n",
        "sns.scatterplot(x=df[\"Income\"],y=df[\"DebtIncomeRatio\"],hue=labels,palette=\"deep\")\n",
        "plt.scatter(x=centroids[:,0],y=centroids[:,1],\n",
        "           marker=\"*\",color=\"gray\",s=150 )"
      ],
      "metadata": {
        "colab": {
          "base_uri": "https://localhost:8080/",
          "height": 297
        },
        "id": "6x_0tZc99NHc",
        "outputId": "7f9faefe-baaf-4d73-96c5-d89e39882ec9"
      },
      "execution_count": 55,
      "outputs": [
        {
          "output_type": "execute_result",
          "data": {
            "text/plain": [
              "<matplotlib.collections.PathCollection at 0x7ff19fae1390>"
            ]
          },
          "metadata": {},
          "execution_count": 55
        },
        {
          "output_type": "display_data",
          "data": {
            "text/plain": [
              "<Figure size 432x288 with 1 Axes>"
            ],
            "image/png": "[encoded data removed]"
          },
          "metadata": {
            "needs_background": "light"
          }
        }
      ]
    },
    {
      "cell_type": "markdown",
      "source": [
        "the above looks cool but as a data analyst we need some more concrete calculation to validate our model peroformamce"
      ],
      "metadata": {
        "id": "gr4Mam-g9w6M"
      }
    },
    {
      "cell_type": "markdown",
      "source": [
        "#Metrics for clustering"
      ],
      "metadata": {
        "id": "x2tAazr0-PFz"
      }
    },
    {
      "cell_type": "code",
      "source": [
        "#extracting inertia from the model\n",
        "inertia = model.inertia_\n",
        "print(\"Inertia (3 clusters):\", inertia)"
      ],
      "metadata": {
        "colab": {
          "base_uri": "https://localhost:8080/"
        },
        "id": "9SEkYuCB9jR6",
        "outputId": "be15a689-c9d0-4abe-a3c5-6c0e8c8f2cbb"
      },
      "execution_count": 56,
      "outputs": [
        {
          "output_type": "stream",
          "name": "stdout",
          "text": [
            "Inertia (3 clusters): 72909.49160548937\n"
          ]
        }
      ]
    },
    {
      "cell_type": "code",
      "source": [
        "#calculating just to make sure \n",
        "ss = silhouette_score(X,model.labels_)\n",
        "print(\"Silhouette Score (3 clusters):\", ss)"
      ],
      "metadata": {
        "colab": {
          "base_uri": "https://localhost:8080/"
        },
        "id": "qlGPo46j-cOJ",
        "outputId": "46260545-ab63-4b3c-bd3e-7e55f3c5dc7a"
      },
      "execution_count": 58,
      "outputs": [
        {
          "output_type": "stream",
          "name": "stdout",
          "text": [
            "Silhouette Score (3 clusters): 0.4648013887128457\n"
          ]
        }
      ]
    },
    {
      "cell_type": "markdown",
      "source": [
        "we want our inertia as close as 0 but ours is so big but this does't mean our model is bad since our datas like income and DebtIncomeRatio values are high it is expected .so to make sure this we also find our\n",
        "silhouette_score gegerally we want it be as close as 1 .so what could be the problem? oour k value so we need to try some k values and decide which gives best result.\n",
        "\n"
      ],
      "metadata": {
        "id": "eKB73CbG_DVa"
      }
    },
    {
      "cell_type": "code",
      "source": [
        "n_clusters = range(2,13)\n",
        "inertia_errors = []\n",
        "silhouette_scores = []\n",
        "\n",
        "# Add `for` loop to train model and calculate inertia, silhouette score.\n",
        "for k in n_clusters:\n",
        "    #build model\n",
        "    model=KMeans(n_clusters=k,random_state=42)\n",
        "    #train model\n",
        "    model.fit(X)\n",
        "    #calculate inertia\n",
        "    inertia_errors.append(model.inertia_)\n",
        "    # calculate schil\n",
        "    silhouette_scores.append(silhouette_score(X,model.labels_))\n",
        "\n",
        "print(\"Inertia:\", inertia_errors[:3])\n",
        "print()\n",
        "print(\"Silhouette Scores:\", silhouette_scores[:3])"
      ],
      "metadata": {
        "colab": {
          "base_uri": "https://localhost:8080/"
        },
        "id": "xGL9sL27_B0T",
        "outputId": "75c40e8e-ce2b-4dc6-d541-68c8b66c342c"
      },
      "execution_count": 59,
      "outputs": [
        {
          "output_type": "stream",
          "name": "stdout",
          "text": [
            "Inertia: [116920.40872002495, 72909.49160548937, 57027.81091810929]\n",
            "\n",
            "Silhouette Scores: [0.5834002742630278, 0.4648013887128457, 0.4187048062809877]\n"
          ]
        }
      ]
    },
    {
      "cell_type": "code",
      "source": [
        "#inertia with n_clusters\n",
        "plt.plot(n_clusters,inertia_errors)\n",
        "plt.xlabel(\"Number of Clusters\")\n",
        "plt.ylabel(\"Inertia\")\n",
        "plt.title(\"K-Means Model: Inertia vs Number of Clusters\");"
      ],
      "metadata": {
        "colab": {
          "base_uri": "https://localhost:8080/",
          "height": 295
        },
        "id": "0pfL0quYALug",
        "outputId": "a857baac-eb3d-4165-baaa-201a44fffbdb"
      },
      "execution_count": 64,
      "outputs": [
        {
          "output_type": "display_data",
          "data": {
            "text/plain": [
              "<Figure size 432x288 with 1 Axes>"
            ],
            "image/png": "[encoded data removed]"
          },
          "metadata": {
            "needs_background": "light"
          }
        }
      ]
    },
    {
      "cell_type": "code",
      "source": [
        "# Plot `silhouette_scores` vs `n_clusters`\n",
        "plt.plot(n_clusters,silhouette_scores)\n",
        "plt.xlabel(\"number of cluster\")\n",
        "plt.ylabel(\"Silhouette Score\")\n",
        "plt.title(\"K-Means Model:Silhouette Score vs number of clusters\")"
      ],
      "metadata": {
        "colab": {
          "base_uri": "https://localhost:8080/",
          "height": 313
        },
        "id": "1MIZN2mIAWAH",
        "outputId": "560eea26-7475-4c3a-b809-048abb8c6a57"
      },
      "execution_count": 65,
      "outputs": [
        {
          "output_type": "execute_result",
          "data": {
            "text/plain": [
              "Text(0.5, 1.0, 'K-Means Model:Silhouette Score vs number of clusters')"
            ]
          },
          "metadata": {},
          "execution_count": 65
        },
        {
          "output_type": "display_data",
          "data": {
            "text/plain": [
              "<Figure size 432x288 with 1 Axes>"
            ],
            "image/png": "[encoded data removed]"
          },
          "metadata": {
            "needs_background": "light"
          }
        }
      ]
    },
    {
      "cell_type": "markdown",
      "source": [
        "well from the above 2 plots we can say that k=5 could be our optimal point."
      ],
      "metadata": {
        "id": "pm94LfyKB5tO"
      }
    },
    {
      "cell_type": "code",
      "source": [
        "# Build model\n",
        "final_model = KMeans(n_clusters=5,random_state=42)\n",
        "# Fit model to data\n",
        "final_model.fit(X)"
      ],
      "metadata": {
        "colab": {
          "base_uri": "https://localhost:8080/"
        },
        "id": "A5hjuEULBc49",
        "outputId": "acc9d223-bf55-4f50-c17b-497ae6227eb7"
      },
      "execution_count": 66,
      "outputs": [
        {
          "output_type": "execute_result",
          "data": {
            "text/plain": [
              "KMeans(n_clusters=5, random_state=42)"
            ]
          },
          "metadata": {},
          "execution_count": 66
        }
      ]
    },
    {
      "cell_type": "code",
      "source": [
        "# Plot \"HOUSES\" vs \"DEBT\" with hue=final model\n",
        "sns.scatterplot(x=df[\"Income\"],y=df[\"DebtIncomeRatio\"],hue=final_model.labels_,palette=\"deep\")"
      ],
      "metadata": {
        "colab": {
          "base_uri": "https://localhost:8080/",
          "height": 297
        },
        "id": "Kv_qS8uPCIcN",
        "outputId": "1384a837-30f5-4743-fde7-4352dc14a0ac"
      },
      "execution_count": 67,
      "outputs": [
        {
          "output_type": "execute_result",
          "data": {
            "text/plain": [
              "<matplotlib.axes._subplots.AxesSubplot at 0x7ff19a3b2f50>"
            ]
          },
          "metadata": {},
          "execution_count": 67
        },
        {
          "output_type": "display_data",
          "data": {
            "text/plain": [
              "<Figure size 432x288 with 1 Axes>"
            ],
            "image/png": "[encoded data removed]"
          },
          "metadata": {
            "needs_background": "light"
          }
        }
      ]
    },
    {
      "cell_type": "code",
      "source": [
        "#dataframe that has mean value for both datas\n",
        "xgb = X.groupby(final_model.labels_).mean()\n",
        "xgb"
      ],
      "metadata": {
        "colab": {
          "base_uri": "https://localhost:8080/",
          "height": 206
        },
        "id": "wMUd_epXCeKs",
        "outputId": "6f38a876-3db3-48d1-bd53-18a800396f97"
      },
      "execution_count": 68,
      "outputs": [
        {
          "output_type": "execute_result",
          "data": {
            "text/plain": [
              "      Income  DebtIncomeRatio\n",
              "0  39.812207         8.555399\n",
              "1  81.835821         9.168657\n",
              "2  23.018248         7.128467\n",
              "3  59.430894        12.499187\n",
              "4  24.163636        19.453636"
            ],
            "text/html": [
              "\n",
              "  <div id=\"df-96956f46-0d96-4a0d-96f3-73565abfb5cb\">\n",
              "    <div class=\"colab-df-container\">\n",
              "      <div>\n",
              "<style scoped>\n",
              "    .dataframe tbody tr th:only-of-type {\n",
              "        vertical-align: middle;\n",
              "    }\n",
              "\n",
              "    .dataframe tbody tr th {\n",
              "        vertical-align: top;\n",
              "    }\n",
              "\n",
              "    .dataframe thead th {\n",
              "        text-align: right;\n",
              "    }\n",
              "</style>\n",
              "<table border=\"1\" class=\"dataframe\">\n",
              "  <thead>\n",
              "    <tr style=\"text-align: right;\">\n",
              "      <th></th>\n",
              "      <th>Income</th>\n",
              "      <th>DebtIncomeRatio</th>\n",
              "    </tr>\n",
              "  </thead>\n",
              "  <tbody>\n",
              "    <tr>\n",
              "      <th>0</th>\n",
              "      <td>39.812207</td>\n",
              "      <td>8.555399</td>\n",
              "    </tr>\n",
              "    <tr>\n",
              "      <th>1</th>\n",
              "      <td>81.835821</td>\n",
              "      <td>9.168657</td>\n",
              "    </tr>\n",
              "    <tr>\n",
              "      <th>2</th>\n",
              "      <td>23.018248</td>\n",
              "      <td>7.128467</td>\n",
              "    </tr>\n",
              "    <tr>\n",
              "      <th>3</th>\n",
              "      <td>59.430894</td>\n",
              "      <td>12.499187</td>\n",
              "    </tr>\n",
              "    <tr>\n",
              "      <th>4</th>\n",
              "      <td>24.163636</td>\n",
              "      <td>19.453636</td>\n",
              "    </tr>\n",
              "  </tbody>\n",
              "</table>\n",
              "</div>\n",
              "      <button class=\"colab-df-convert\" onclick=\"convertToInteractive('df-96956f46-0d96-4a0d-96f3-73565abfb5cb')\"\n",
              "              title=\"Convert this dataframe to an interactive table.\"\n",
              "              style=\"display:none;\">\n",
              "        \n",
              "  <svg xmlns=\"http://www.w3.org/2000/svg\" height=\"24px\"viewBox=\"0 0 24 24\"\n",
              "       width=\"24px\">\n",
              "    <path d=\"M0 0h24v24H0V0z\" fill=\"none\"/>\n",
              "    <path d=\"M18.56 5.44l.94 2.06.94-2.06 2.06-.94-2.06-.94-.94-2.06-.94 2.06-2.06.94zm-11 1L8.5 8.5l.94-2.06 2.06-.94-2.06-.94L8.5 2.5l-.94 2.06-2.06.94zm10 10l.94 2.06.94-2.06 2.06-.94-2.06-.94-.94-2.06-.94 2.06-2.06.94z\"/><path d=\"M17.41 7.96l-1.37-1.37c-.4-.4-.92-.59-1.43-.59-.52 0-1.04.2-1.43.59L10.3 9.45l-7.72 7.72c-.78.78-.78 2.05 0 2.83L4 21.41c.39.39.9.59 1.41.59.51 0 1.02-.2 1.41-.59l7.78-7.78 2.81-2.81c.8-.78.8-2.07 0-2.86zM5.41 20L4 18.59l7.72-7.72 1.47 1.35L5.41 20z\"/>\n",
              "  </svg>\n",
              "      </button>\n",
              "      \n",
              "  <style>\n",
              "    .colab-df-container {\n",
              "      display:flex;\n",
              "      flex-wrap:wrap;\n",
              "      gap: 12px;\n",
              "    }\n",
              "\n",
              "    .colab-df-convert {\n",
              "      background-color: #E8F0FE;\n",
              "      border: none;\n",
              "      border-radius: 50%;\n",
              "      cursor: pointer;\n",
              "      display: none;\n",
              "      fill: #1967D2;\n",
              "      height: 32px;\n",
              "      padding: 0 0 0 0;\n",
              "      width: 32px;\n",
              "    }\n",
              "\n",
              "    .colab-df-convert:hover {\n",
              "      background-color: #E2EBFA;\n",
              "      box-shadow: 0px 1px 2px rgba(60, 64, 67, 0.3), 0px 1px 3px 1px rgba(60, 64, 67, 0.15);\n",
              "      fill: #174EA6;\n",
              "    }\n",
              "\n",
              "    [theme=dark] .colab-df-convert {\n",
              "      background-color: #3B4455;\n",
              "      fill: #D2E3FC;\n",
              "    }\n",
              "\n",
              "    [theme=dark] .colab-df-convert:hover {\n",
              "      background-color: #434B5C;\n",
              "      box-shadow: 0px 1px 3px 1px rgba(0, 0, 0, 0.15);\n",
              "      filter: drop-shadow(0px 1px 2px rgba(0, 0, 0, 0.3));\n",
              "      fill: #FFFFFF;\n",
              "    }\n",
              "  </style>\n",
              "\n",
              "      <script>\n",
              "        const buttonEl =\n",
              "          document.querySelector('#df-96956f46-0d96-4a0d-96f3-73565abfb5cb button.colab-df-convert');\n",
              "        buttonEl.style.display =\n",
              "          google.colab.kernel.accessAllowed ? 'block' : 'none';\n",
              "\n",
              "        async function convertToInteractive(key) {\n",
              "          const element = document.querySelector('#df-96956f46-0d96-4a0d-96f3-73565abfb5cb');\n",
              "          const dataTable =\n",
              "            await google.colab.kernel.invokeFunction('convertToInteractive',\n",
              "                                                     [key], {});\n",
              "          if (!dataTable) return;\n",
              "\n",
              "          const docLinkHtml = 'Like what you see? Visit the ' +\n",
              "            '<a target=\"_blank\" href=https://colab.research.google.com/notebooks/data_table.ipynb>data table notebook</a>'\n",
              "            + ' to learn more about interactive tables.';\n",
              "          element.innerHTML = '';\n",
              "          dataTable['output_type'] = 'display_data';\n",
              "          await google.colab.output.renderOutput(dataTable, element);\n",
              "          const docLink = document.createElement('div');\n",
              "          docLink.innerHTML = docLinkHtml;\n",
              "          element.appendChild(docLink);\n",
              "        }\n",
              "      </script>\n",
              "    </div>\n",
              "  </div>\n",
              "  "
            ]
          },
          "metadata": {},
          "execution_count": 68
        }
      ]
    },
    {
      "cell_type": "code",
      "source": [
        "#visualizing the above\n",
        "xgb.plot(kind=\"bar\")\n",
        "plt.xlabel(\"Cluster\")\n",
        "plt.ylabel(\"Value\")\n",
        "plt.title(\"Mean income & DebtIncomeRatio by Cluster\");"
      ],
      "metadata": {
        "colab": {
          "base_uri": "https://localhost:8080/",
          "height": 292
        },
        "id": "yjRc0EZLC0WT",
        "outputId": "64b39199-d723-40c6-c9cc-638c160bf00e"
      },
      "execution_count": 71,
      "outputs": [
        {
          "output_type": "display_data",
          "data": {
            "text/plain": [
              "<Figure size 432x288 with 1 Axes>"
            ],
            "image/png": "[encoded data removed]"
          },
          "metadata": {
            "needs_background": "light"
          }
        }
      ]
    },
    {
      "cell_type": "markdown",
      "source": [
        "we can say the proportion of income to DeptincomeRatio vlaue in cluster 1 and 3 is not proportional and we can see extream high income which explains why thair DIR is low aferall DIR is output of total dept/gross income 'so as our income increases the DIR values become less."
      ],
      "metadata": {
        "id": "NCJvVtGqELYt"
      }
    },
    {
      "cell_type": "markdown",
      "source": [
        "#Clustering with more than 2 features\n"
      ],
      "metadata": {
        "id": "Hnfxs3CKFMmM"
      }
    },
    {
      "cell_type": "code",
      "source": [
        "# Calculate variance, get 5 largest features\n",
        "top_five_var = df.var().sort_values().tail(5)\n",
        "top_five_var"
      ],
      "metadata": {
        "colab": {
          "base_uri": "https://localhost:8080/"
        },
        "id": "TTv981-gFKR5",
        "outputId": "0f41d692-ee52-43e4-97c1-1f5c96d87073"
      },
      "execution_count": 80,
      "outputs": [
        {
          "output_type": "stream",
          "name": "stderr",
          "text": [
            "/usr/local/lib/python3.7/dist-packages/ipykernel_launcher.py:2: FutureWarning: Dropping of nuisance columns in DataFrame reductions (with 'numeric_only=None') is deprecated; in a future version this will raise TypeError.  Select only valid columns before calling the reduction.\n",
            "  \n"
          ]
        },
        {
          "output_type": "execute_result",
          "data": {
            "text/plain": [
              "Other Debt           6.325846\n",
              "Years Employed      34.613348\n",
              "DebtIncomeRatio     45.352528\n",
              "Age                 60.145113\n",
              "Income             371.005018\n",
              "dtype: float64"
            ]
          },
          "metadata": {},
          "execution_count": 80
        }
      ]
    },
    {
      "cell_type": "code",
      "source": [
        "# #creating horizontal bar chart just visualize the above\n",
        "fig = px.bar(\n",
        "    x=top_five_var,\n",
        "    y=top_five_var.index,\n",
        "    title=\"SCF:High Variance Features\",\n",
        "    )\n",
        "fig.update_layout(xaxis_title=\"Variance\",yaxis_title=\"Feature\")\n",
        "\n",
        "fig.show()"
      ],
      "metadata": {
        "colab": {
          "base_uri": "https://localhost:8080/",
          "height": 542
        },
        "id": "3KfjXzubFiUY",
        "outputId": "b30e7a06-db56-40e0-a5bf-a3d87d56511a"
      },
      "execution_count": 81,
      "outputs": [
        {
          "output_type": "display_data",
          "data": {
            "text/html": [
              "<html>\n",
              "<head><meta charset=\"utf-8\" /></head>\n",
              "<body>\n",
              "    <div>            <script src=\"https://cdnjs.cloudflare.com/ajax/libs/mathjax/2.7.5/MathJax.js?config=TeX-AMS-MML_SVG\"></script><script type=\"text/javascript\">if (window.MathJax) {MathJax.Hub.Config({SVG: {font: \"STIX-Web\"}});}</script>                <script type=\"text/javascript\">window.PlotlyConfig = {MathJaxConfig: 'local'};</script>\n",
              "        <script src=\"https://cdn.plot.ly/plotly-2.8.3.min.js\"></script>                <div id=\"ff625c78-d29c-48fe-bf06-1ad3a97cefad\" class=\"plotly-graph-div\" style=\"height:525px; width:100%;\"></div>            <script type=\"text/javascript\">                                    window.PLOTLYENV=window.PLOTLYENV || {};                                    if (document.getElementById(\"ff625c78-d29c-48fe-bf06-1ad3a97cefad\")) {                    Plotly.newPlot(                        \"ff625c78-d29c-48fe-bf06-1ad3a97cefad\",                        [{\"alignmentgroup\":\"True\",\"hovertemplate\":\"x=%{x}<br>y=%{y}<extra></extra>\",\"legendgroup\":\"\",\"marker\":{\"color\":\"#636efa\",\"pattern\":{\"shape\":\"\"}},\"name\":\"\",\"offsetgroup\":\"\",\"orientation\":\"h\",\"showlegend\":false,\"textposition\":\"auto\",\"x\":[6.325846209488798,34.61334794740228,45.35252842792063,60.14511253156414,371.0050179281],\"xaxis\":\"x\",\"y\":[\"Other Debt\",\"Years Employed\",\"DebtIncomeRatio\",\"Age\",\"Income\"],\"yaxis\":\"y\",\"type\":\"bar\"}],                        {\"template\":{\"data\":{\"bar\":[{\"error_x\":{\"color\":\"#2a3f5f\"},\"error_y\":{\"color\":\"#2a3f5f\"},\"marker\":{\"line\":{\"color\":\"#E5ECF6\",\"width\":0.5},\"pattern\":{\"fillmode\":\"overlay\",\"size\":10,\"solidity\":0.2}},\"type\":\"bar\"}],\"barpolar\":[{\"marker\":{\"line\":{\"color\":\"#E5ECF6\",\"width\":0.5},\"pattern\":{\"fillmode\":\"overlay\",\"size\":10,\"solidity\":0.2}},\"type\":\"barpolar\"}],\"carpet\":[{\"aaxis\":{\"endlinecolor\":\"#2a3f5f\",\"gridcolor\":\"white\",\"linecolor\":\"white\",\"minorgridcolor\":\"white\",\"startlinecolor\":\"#2a3f5f\"},\"baxis\":{\"endlinecolor\":\"#2a3f5f\",\"gridcolor\":\"white\",\"linecolor\":\"white\",\"minorgridcolor\":\"white\",\"startlinecolor\":\"#2a3f5f\"},\"type\":\"carpet\"}],\"choropleth\":[{\"colorbar\":{\"outlinewidth\":0,\"ticks\":\"\"},\"type\":\"choropleth\"}],\"contour\":[{\"colorbar\":{\"outlinewidth\":0,\"ticks\":\"\"},\"colorscale\":[[0.0,\"#0d0887\"],[0.1111111111111111,\"#46039f\"],[0.2222222222222222,\"#7201a8\"],[0.3333333333333333,\"#9c179e\"],[0.4444444444444444,\"#bd3786\"],[0.5555555555555556,\"#d8576b\"],[0.6666666666666666,\"#ed7953\"],[0.7777777777777778,\"#fb9f3a\"],[0.8888888888888888,\"#fdca26\"],[1.0,\"#f0f921\"]],\"type\":\"contour\"}],\"contourcarpet\":[{\"colorbar\":{\"outlinewidth\":0,\"ticks\":\"\"},\"type\":\"contourcarpet\"}],\"heatmap\":[{\"colorbar\":{\"outlinewidth\":0,\"ticks\":\"\"},\"colorscale\":[[0.0,\"#0d0887\"],[0.1111111111111111,\"#46039f\"],[0.2222222222222222,\"#7201a8\"],[0.3333333333333333,\"#9c179e\"],[0.4444444444444444,\"#bd3786\"],[0.5555555555555556,\"#d8576b\"],[0.6666666666666666,\"#ed7953\"],[0.7777777777777778,\"#fb9f3a\"],[0.8888888888888888,\"#fdca26\"],[1.0,\"#f0f921\"]],\"type\":\"heatmap\"}],\"heatmapgl\":[{\"colorbar\":{\"outlinewidth\":0,\"ticks\":\"\"},\"colorscale\":[[0.0,\"#0d0887\"],[0.1111111111111111,\"#46039f\"],[0.2222222222222222,\"#7201a8\"],[0.3333333333333333,\"#9c179e\"],[0.4444444444444444,\"#bd3786\"],[0.5555555555555556,\"#d8576b\"],[0.6666666666666666,\"#ed7953\"],[0.7777777777777778,\"#fb9f3a\"],[0.8888888888888888,\"#fdca26\"],[1.0,\"#f0f921\"]],\"type\":\"heatmapgl\"}],\"histogram\":[{\"marker\":{\"pattern\":{\"fillmode\":\"overlay\",\"size\":10,\"solidity\":0.2}},\"type\":\"histogram\"}],\"histogram2d\":[{\"colorbar\":{\"outlinewidth\":0,\"ticks\":\"\"},\"colorscale\":[[0.0,\"#0d0887\"],[0.1111111111111111,\"#46039f\"],[0.2222222222222222,\"#7201a8\"],[0.3333333333333333,\"#9c179e\"],[0.4444444444444444,\"#bd3786\"],[0.5555555555555556,\"#d8576b\"],[0.6666666666666666,\"#ed7953\"],[0.7777777777777778,\"#fb9f3a\"],[0.8888888888888888,\"#fdca26\"],[1.0,\"#f0f921\"]],\"type\":\"histogram2d\"}],\"histogram2dcontour\":[{\"colorbar\":{\"outlinewidth\":0,\"ticks\":\"\"},\"colorscale\":[[0.0,\"#0d0887\"],[0.1111111111111111,\"#46039f\"],[0.2222222222222222,\"#7201a8\"],[0.3333333333333333,\"#9c179e\"],[0.4444444444444444,\"#bd3786\"],[0.5555555555555556,\"#d8576b\"],[0.6666666666666666,\"#ed7953\"],[0.7777777777777778,\"#fb9f3a\"],[0.8888888888888888,\"#fdca26\"],[1.0,\"#f0f921\"]],\"type\":\"histogram2dcontour\"}],\"mesh3d\":[{\"colorbar\":{\"outlinewidth\":0,\"ticks\":\"\"},\"type\":\"mesh3d\"}],\"parcoords\":[{\"line\":{\"colorbar\":{\"outlinewidth\":0,\"ticks\":\"\"}},\"type\":\"parcoords\"}],\"pie\":[{\"automargin\":true,\"type\":\"pie\"}],\"scatter\":[{\"marker\":{\"colorbar\":{\"outlinewidth\":0,\"ticks\":\"\"}},\"type\":\"scatter\"}],\"scatter3d\":[{\"line\":{\"colorbar\":{\"outlinewidth\":0,\"ticks\":\"\"}},\"marker\":{\"colorbar\":{\"outlinewidth\":0,\"ticks\":\"\"}},\"type\":\"scatter3d\"}],\"scattercarpet\":[{\"marker\":{\"colorbar\":{\"outlinewidth\":0,\"ticks\":\"\"}},\"type\":\"scattercarpet\"}],\"scattergeo\":[{\"marker\":{\"colorbar\":{\"outlinewidth\":0,\"ticks\":\"\"}},\"type\":\"scattergeo\"}],\"scattergl\":[{\"marker\":{\"colorbar\":{\"outlinewidth\":0,\"ticks\":\"\"}},\"type\":\"scattergl\"}],\"scattermapbox\":[{\"marker\":{\"colorbar\":{\"outlinewidth\":0,\"ticks\":\"\"}},\"type\":\"scattermapbox\"}],\"scatterpolar\":[{\"marker\":{\"colorbar\":{\"outlinewidth\":0,\"ticks\":\"\"}},\"type\":\"scatterpolar\"}],\"scatterpolargl\":[{\"marker\":{\"colorbar\":{\"outlinewidth\":0,\"ticks\":\"\"}},\"type\":\"scatterpolargl\"}],\"scatterternary\":[{\"marker\":{\"colorbar\":{\"outlinewidth\":0,\"ticks\":\"\"}},\"type\":\"scatterternary\"}],\"surface\":[{\"colorbar\":{\"outlinewidth\":0,\"ticks\":\"\"},\"colorscale\":[[0.0,\"#0d0887\"],[0.1111111111111111,\"#46039f\"],[0.2222222222222222,\"#7201a8\"],[0.3333333333333333,\"#9c179e\"],[0.4444444444444444,\"#bd3786\"],[0.5555555555555556,\"#d8576b\"],[0.6666666666666666,\"#ed7953\"],[0.7777777777777778,\"#fb9f3a\"],[0.8888888888888888,\"#fdca26\"],[1.0,\"#f0f921\"]],\"type\":\"surface\"}],\"table\":[{\"cells\":{\"fill\":{\"color\":\"#EBF0F8\"},\"line\":{\"color\":\"white\"}},\"header\":{\"fill\":{\"color\":\"#C8D4E3\"},\"line\":{\"color\":\"white\"}},\"type\":\"table\"}]},\"layout\":{\"annotationdefaults\":{\"arrowcolor\":\"#2a3f5f\",\"arrowhead\":0,\"arrowwidth\":1},\"autotypenumbers\":\"strict\",\"coloraxis\":{\"colorbar\":{\"outlinewidth\":0,\"ticks\":\"\"}},\"colorscale\":{\"diverging\":[[0,\"#8e0152\"],[0.1,\"#c51b7d\"],[0.2,\"#de77ae\"],[0.3,\"#f1b6da\"],[0.4,\"#fde0ef\"],[0.5,\"#f7f7f7\"],[0.6,\"#e6f5d0\"],[0.7,\"#b8e186\"],[0.8,\"#7fbc41\"],[0.9,\"#4d9221\"],[1,\"#276419\"]],\"sequential\":[[0.0,\"#0d0887\"],[0.1111111111111111,\"#46039f\"],[0.2222222222222222,\"#7201a8\"],[0.3333333333333333,\"#9c179e\"],[0.4444444444444444,\"#bd3786\"],[0.5555555555555556,\"#d8576b\"],[0.6666666666666666,\"#ed7953\"],[0.7777777777777778,\"#fb9f3a\"],[0.8888888888888888,\"#fdca26\"],[1.0,\"#f0f921\"]],\"sequentialminus\":[[0.0,\"#0d0887\"],[0.1111111111111111,\"#46039f\"],[0.2222222222222222,\"#7201a8\"],[0.3333333333333333,\"#9c179e\"],[0.4444444444444444,\"#bd3786\"],[0.5555555555555556,\"#d8576b\"],[0.6666666666666666,\"#ed7953\"],[0.7777777777777778,\"#fb9f3a\"],[0.8888888888888888,\"#fdca26\"],[1.0,\"#f0f921\"]]},\"colorway\":[\"#636efa\",\"#EF553B\",\"#00cc96\",\"#ab63fa\",\"#FFA15A\",\"#19d3f3\",\"#FF6692\",\"#B6E880\",\"#FF97FF\",\"#FECB52\"],\"font\":{\"color\":\"#2a3f5f\"},\"geo\":{\"bgcolor\":\"white\",\"lakecolor\":\"white\",\"landcolor\":\"#E5ECF6\",\"showlakes\":true,\"showland\":true,\"subunitcolor\":\"white\"},\"hoverlabel\":{\"align\":\"left\"},\"hovermode\":\"closest\",\"mapbox\":{\"style\":\"light\"},\"paper_bgcolor\":\"white\",\"plot_bgcolor\":\"#E5ECF6\",\"polar\":{\"angularaxis\":{\"gridcolor\":\"white\",\"linecolor\":\"white\",\"ticks\":\"\"},\"bgcolor\":\"#E5ECF6\",\"radialaxis\":{\"gridcolor\":\"white\",\"linecolor\":\"white\",\"ticks\":\"\"}},\"scene\":{\"xaxis\":{\"backgroundcolor\":\"#E5ECF6\",\"gridcolor\":\"white\",\"gridwidth\":2,\"linecolor\":\"white\",\"showbackground\":true,\"ticks\":\"\",\"zerolinecolor\":\"white\"},\"yaxis\":{\"backgroundcolor\":\"#E5ECF6\",\"gridcolor\":\"white\",\"gridwidth\":2,\"linecolor\":\"white\",\"showbackground\":true,\"ticks\":\"\",\"zerolinecolor\":\"white\"},\"zaxis\":{\"backgroundcolor\":\"#E5ECF6\",\"gridcolor\":\"white\",\"gridwidth\":2,\"linecolor\":\"white\",\"showbackground\":true,\"ticks\":\"\",\"zerolinecolor\":\"white\"}},\"shapedefaults\":{\"line\":{\"color\":\"#2a3f5f\"}},\"ternary\":{\"aaxis\":{\"gridcolor\":\"white\",\"linecolor\":\"white\",\"ticks\":\"\"},\"baxis\":{\"gridcolor\":\"white\",\"linecolor\":\"white\",\"ticks\":\"\"},\"bgcolor\":\"#E5ECF6\",\"caxis\":{\"gridcolor\":\"white\",\"linecolor\":\"white\",\"ticks\":\"\"}},\"title\":{\"x\":0.05},\"xaxis\":{\"automargin\":true,\"gridcolor\":\"white\",\"linecolor\":\"white\",\"ticks\":\"\",\"title\":{\"standoff\":15},\"zerolinecolor\":\"white\",\"zerolinewidth\":2},\"yaxis\":{\"automargin\":true,\"gridcolor\":\"white\",\"linecolor\":\"white\",\"ticks\":\"\",\"title\":{\"standoff\":15},\"zerolinecolor\":\"white\",\"zerolinewidth\":2}}},\"xaxis\":{\"anchor\":\"y\",\"domain\":[0.0,1.0],\"title\":{\"text\":\"Variance\"}},\"yaxis\":{\"anchor\":\"x\",\"domain\":[0.0,1.0],\"title\":{\"text\":\"Feature\"}},\"legend\":{\"tracegroupgap\":0},\"title\":{\"text\":\"SCF:High Variance Features\"},\"barmode\":\"relative\"},                        {\"responsive\": true}                    ).then(function(){\n",
              "                            \n",
              "var gd = document.getElementById('ff625c78-d29c-48fe-bf06-1ad3a97cefad');\n",
              "var x = new MutationObserver(function (mutations, observer) {{\n",
              "        var display = window.getComputedStyle(gd).display;\n",
              "        if (!display || display === 'none') {{\n",
              "            console.log([gd, 'removed!']);\n",
              "            Plotly.purge(gd);\n",
              "            observer.disconnect();\n",
              "        }}\n",
              "}});\n",
              "\n",
              "// Listen for the removal of the full notebook cells\n",
              "var notebookContainer = gd.closest('#notebook-container');\n",
              "if (notebookContainer) {{\n",
              "    x.observe(notebookContainer, {childList: true});\n",
              "}}\n",
              "\n",
              "// Listen for the clearing of the current output cell\n",
              "var outputEl = gd.closest('.output');\n",
              "if (outputEl) {{\n",
              "    x.observe(outputEl, {childList: true});\n",
              "}}\n",
              "\n",
              "                        })                };                            </script>        </div>\n",
              "</body>\n",
              "</html>"
            ]
          },
          "metadata": {}
        }
      ]
    },
    {
      "cell_type": "code",
      "source": [
        "high_var_cols = top_five_var.tail(5).index.to_list()\n",
        "high_var_cols"
      ],
      "metadata": {
        "colab": {
          "base_uri": "https://localhost:8080/"
        },
        "id": "NGLIyitdGcfI",
        "outputId": "4e337112-5a5b-48c0-c67b-e107743ba95f"
      },
      "execution_count": 95,
      "outputs": [
        {
          "output_type": "execute_result",
          "data": {
            "text/plain": [
              "['Other Debt', 'Years Employed', 'DebtIncomeRatio', 'Age', 'Income']"
            ]
          },
          "metadata": {},
          "execution_count": 95
        }
      ]
    },
    {
      "cell_type": "code",
      "source": [
        "#Split\n",
        "X = df[high_var_cols]\n",
        "print(\"X shape:\", X.shape)\n",
        "X.head()"
      ],
      "metadata": {
        "colab": {
          "base_uri": "https://localhost:8080/",
          "height": 256
        },
        "id": "trAoqDiOG96W",
        "outputId": "58ecb10c-7698-433a-e533-e76f5f6639c3"
      },
      "execution_count": 96,
      "outputs": [
        {
          "output_type": "stream",
          "name": "stdout",
          "text": [
            "X shape: (787, 5)\n"
          ]
        },
        {
          "output_type": "execute_result",
          "data": {
            "text/plain": [
              "             Other Debt  Years Employed  DebtIncomeRatio  Age  Income\n",
              "Customer Id                                                          \n",
              "1                 1.073               6              6.3   41      19\n",
              "3                 5.802              10             20.9   33      57\n",
              "4                 0.516               4              6.3   29      19\n",
              "6                 7.831              23             10.9   40      81\n",
              "7                 0.454               4              1.6   38      56"
            ],
            "text/html": [
              "\n",
              "  <div id=\"df-9b59f2bb-e815-48a8-91de-530a399d0db7\">\n",
              "    <div class=\"colab-df-container\">\n",
              "      <div>\n",
              "<style scoped>\n",
              "    .dataframe tbody tr th:only-of-type {\n",
              "        vertical-align: middle;\n",
              "    }\n",
              "\n",
              "    .dataframe tbody tr th {\n",
              "        vertical-align: top;\n",
              "    }\n",
              "\n",
              "    .dataframe thead th {\n",
              "        text-align: right;\n",
              "    }\n",
              "</style>\n",
              "<table border=\"1\" class=\"dataframe\">\n",
              "  <thead>\n",
              "    <tr style=\"text-align: right;\">\n",
              "      <th></th>\n",
              "      <th>Other Debt</th>\n",
              "      <th>Years Employed</th>\n",
              "      <th>DebtIncomeRatio</th>\n",
              "      <th>Age</th>\n",
              "      <th>Income</th>\n",
              "    </tr>\n",
              "    <tr>\n",
              "      <th>Customer Id</th>\n",
              "      <th></th>\n",
              "      <th></th>\n",
              "      <th></th>\n",
              "      <th></th>\n",
              "      <th></th>\n",
              "    </tr>\n",
              "  </thead>\n",
              "  <tbody>\n",
              "    <tr>\n",
              "      <th>1</th>\n",
              "      <td>1.073</td>\n",
              "      <td>6</td>\n",
              "      <td>6.3</td>\n",
              "      <td>41</td>\n",
              "      <td>19</td>\n",
              "    </tr>\n",
              "    <tr>\n",
              "      <th>3</th>\n",
              "      <td>5.802</td>\n",
              "      <td>10</td>\n",
              "      <td>20.9</td>\n",
              "      <td>33</td>\n",
              "      <td>57</td>\n",
              "    </tr>\n",
              "    <tr>\n",
              "      <th>4</th>\n",
              "      <td>0.516</td>\n",
              "      <td>4</td>\n",
              "      <td>6.3</td>\n",
              "      <td>29</td>\n",
              "      <td>19</td>\n",
              "    </tr>\n",
              "    <tr>\n",
              "      <th>6</th>\n",
              "      <td>7.831</td>\n",
              "      <td>23</td>\n",
              "      <td>10.9</td>\n",
              "      <td>40</td>\n",
              "      <td>81</td>\n",
              "    </tr>\n",
              "    <tr>\n",
              "      <th>7</th>\n",
              "      <td>0.454</td>\n",
              "      <td>4</td>\n",
              "      <td>1.6</td>\n",
              "      <td>38</td>\n",
              "      <td>56</td>\n",
              "    </tr>\n",
              "  </tbody>\n",
              "</table>\n",
              "</div>\n",
              "      <button class=\"colab-df-convert\" onclick=\"convertToInteractive('df-9b59f2bb-e815-48a8-91de-530a399d0db7')\"\n",
              "              title=\"Convert this dataframe to an interactive table.\"\n",
              "              style=\"display:none;\">\n",
              "        \n",
              "  <svg xmlns=\"http://www.w3.org/2000/svg\" height=\"24px\"viewBox=\"0 0 24 24\"\n",
              "       width=\"24px\">\n",
              "    <path d=\"M0 0h24v24H0V0z\" fill=\"none\"/>\n",
              "    <path d=\"M18.56 5.44l.94 2.06.94-2.06 2.06-.94-2.06-.94-.94-2.06-.94 2.06-2.06.94zm-11 1L8.5 8.5l.94-2.06 2.06-.94-2.06-.94L8.5 2.5l-.94 2.06-2.06.94zm10 10l.94 2.06.94-2.06 2.06-.94-2.06-.94-.94-2.06-.94 2.06-2.06.94z\"/><path d=\"M17.41 7.96l-1.37-1.37c-.4-.4-.92-.59-1.43-.59-.52 0-1.04.2-1.43.59L10.3 9.45l-7.72 7.72c-.78.78-.78 2.05 0 2.83L4 21.41c.39.39.9.59 1.41.59.51 0 1.02-.2 1.41-.59l7.78-7.78 2.81-2.81c.8-.78.8-2.07 0-2.86zM5.41 20L4 18.59l7.72-7.72 1.47 1.35L5.41 20z\"/>\n",
              "  </svg>\n",
              "      </button>\n",
              "      \n",
              "  <style>\n",
              "    .colab-df-container {\n",
              "      display:flex;\n",
              "      flex-wrap:wrap;\n",
              "      gap: 12px;\n",
              "    }\n",
              "\n",
              "    .colab-df-convert {\n",
              "      background-color: #E8F0FE;\n",
              "      border: none;\n",
              "      border-radius: 50%;\n",
              "      cursor: pointer;\n",
              "      display: none;\n",
              "      fill: #1967D2;\n",
              "      height: 32px;\n",
              "      padding: 0 0 0 0;\n",
              "      width: 32px;\n",
              "    }\n",
              "\n",
              "    .colab-df-convert:hover {\n",
              "      background-color: #E2EBFA;\n",
              "      box-shadow: 0px 1px 2px rgba(60, 64, 67, 0.3), 0px 1px 3px 1px rgba(60, 64, 67, 0.15);\n",
              "      fill: #174EA6;\n",
              "    }\n",
              "\n",
              "    [theme=dark] .colab-df-convert {\n",
              "      background-color: #3B4455;\n",
              "      fill: #D2E3FC;\n",
              "    }\n",
              "\n",
              "    [theme=dark] .colab-df-convert:hover {\n",
              "      background-color: #434B5C;\n",
              "      box-shadow: 0px 1px 3px 1px rgba(0, 0, 0, 0.15);\n",
              "      filter: drop-shadow(0px 1px 2px rgba(0, 0, 0, 0.3));\n",
              "      fill: #FFFFFF;\n",
              "    }\n",
              "  </style>\n",
              "\n",
              "      <script>\n",
              "        const buttonEl =\n",
              "          document.querySelector('#df-9b59f2bb-e815-48a8-91de-530a399d0db7 button.colab-df-convert');\n",
              "        buttonEl.style.display =\n",
              "          google.colab.kernel.accessAllowed ? 'block' : 'none';\n",
              "\n",
              "        async function convertToInteractive(key) {\n",
              "          const element = document.querySelector('#df-9b59f2bb-e815-48a8-91de-530a399d0db7');\n",
              "          const dataTable =\n",
              "            await google.colab.kernel.invokeFunction('convertToInteractive',\n",
              "                                                     [key], {});\n",
              "          if (!dataTable) return;\n",
              "\n",
              "          const docLinkHtml = 'Like what you see? Visit the ' +\n",
              "            '<a target=\"_blank\" href=https://colab.research.google.com/notebooks/data_table.ipynb>data table notebook</a>'\n",
              "            + ' to learn more about interactive tables.';\n",
              "          element.innerHTML = '';\n",
              "          dataTable['output_type'] = 'display_data';\n",
              "          await google.colab.output.renderOutput(dataTable, element);\n",
              "          const docLink = document.createElement('div');\n",
              "          docLink.innerHTML = docLinkHtml;\n",
              "          element.appendChild(docLink);\n",
              "        }\n",
              "      </script>\n",
              "    </div>\n",
              "  </div>\n",
              "  "
            ]
          },
          "metadata": {},
          "execution_count": 96
        }
      ]
    },
    {
      "cell_type": "markdown",
      "source": [],
      "metadata": {
        "id": "ThdT0MKWIfAv"
      }
    },
    {
      "cell_type": "markdown",
      "source": [
        "now we do couple of changes \n",
        "1.USE StandardScaller for scalling our data\n",
        "2.USE make-pipline from skklearn to organize our code and model bulding steps."
      ],
      "metadata": {
        "id": "PbDSzOcbIfCI"
      }
    },
    {
      "cell_type": "code",
      "source": [
        "n_clusters = range(2,12)\n",
        "inertia_errors = []\n",
        "silhouette_scores = []\n",
        "\n",
        "# Add `for` loop to train model and calculate inertia, silhouette score.\n",
        "for k in n_clusters:\n",
        "    #train model\n",
        "    model= make_pipeline(StandardScaler(),KMeans(n_clusters=k,random_state=42))\n",
        "    #fiting model\n",
        "    model.fit(X)\n",
        "    #adding inertia value to my list\n",
        "    inertia_errors.append(model.named_steps['kmeans'].inertia_)\n",
        "    # adding silhoutte score\n",
        "    silhouette_scores.append(model.named_steps['kmeans'].labels_)\n",
        "\n",
        "print(\"Inertia:\", inertia_errors[0])\n",
        "print()\n",
        "print(\"Silhouette Scores:\", silhouette_scores[0])"
      ],
      "metadata": {
        "colab": {
          "base_uri": "https://localhost:8080/"
        },
        "id": "w-RWqMYpIZGd",
        "outputId": "f90d5cae-3454-4511-f197-a052e77bd1f4"
      },
      "execution_count": 98,
      "outputs": [
        {
          "output_type": "stream",
          "name": "stdout",
          "text": [
            "Inertia: 2615.2862983051355\n",
            "\n",
            "Silhouette Scores: [0 1 0 1 0 1 0 1 0 0 1 0 0 0 0 1 1 0 1 0 1 1 0 1 1 0 1 0 0 0 0 0 0 0 0 0 1\n",
            " 1 0 0 0 1 1 1 0 1 1 0 0 0 1 1 1 1 1 1 0 0 1 0 0 0 0 1 1 0 0 0 0 0 1 1 1 0\n",
            " 1 0 0 0 0 0 1 0 0 0 0 0 0 0 0 0 1 1 1 0 1 0 0 0 1 1 0 0 0 0 0 0 1 1 0 0 0\n",
            " 0 1 0 1 0 0 0 0 0 1 0 0 0 0 1 0 1 0 1 0 0 0 1 0 1 0 0 0 0 1 0 0 1 1 0 1 0\n",
            " 1 1 0 0 0 0 0 0 1 1 0 0 0 0 1 1 0 0 1 0 0 0 0 1 0 0 1 1 0 1 1 0 1 0 0 1 0\n",
            " 0 0 0 0 1 0 1 0 0 0 1 1 0 0 1 1 1 1 0 0 0 0 0 0 1 1 0 1 1 0 1 0 1 0 1 0 0\n",
            " 0 0 0 0 1 1 0 0 0 0 0 0 1 0 1 0 0 0 0 1 1 0 1 1 0 1 0 1 0 0 0 1 0 0 0 1 0\n",
            " 0 0 0 0 1 0 1 0 0 0 1 0 0 0 0 0 1 1 1 0 0 0 1 1 0 0 0 0 0 0 0 1 0 0 0 0 0\n",
            " 1 0 1 0 0 1 0 0 1 1 0 0 1 1 0 1 0 1 1 1 0 0 1 0 0 0 0 0 0 1 0 0 0 0 0 0 0\n",
            " 0 0 1 0 1 1 0 0 1 0 0 0 0 1 0 0 0 0 0 0 0 1 0 0 0 0 1 0 1 0 0 0 0 0 0 0 0\n",
            " 0 0 1 0 1 1 0 0 1 1 0 0 1 1 0 1 0 1 1 0 0 1 1 0 1 0 0 1 1 0 0 1 0 0 0 1 1\n",
            " 1 1 0 1 0 0 1 1 0 1 0 0 0 0 0 0 0 1 0 0 0 0 0 1 0 1 1 1 0 1 1 1 0 1 0 0 0\n",
            " 0 0 1 0 0 0 1 0 0 0 1 0 1 0 0 0 1 1 0 0 0 0 0 0 0 1 0 0 0 0 1 1 0 0 0 1 1\n",
            " 0 0 0 1 0 0 1 0 0 0 1 1 0 0 0 0 0 1 0 0 1 1 1 1 0 1 0 1 0 0 0 0 0 0 1 1 0\n",
            " 1 0 1 1 0 1 0 0 0 0 1 0 0 0 0 1 1 0 1 1 1 1 1 0 0 1 0 1 1 0 0 0 0 0 1 1 0\n",
            " 1 0 1 0 1 0 0 0 0 0 0 0 0 1 0 1 0 0 0 1 0 0 0 0 0 0 0 1 1 0 1 1 0 0 1 0 1\n",
            " 0 0 0 1 1 0 0 0 0 0 1 0 0 0 1 1 0 0 0 1 0 0 1 0 0 0 1 1 0 0 0 1 0 0 1 0 1\n",
            " 1 0 1 0 1 0 0 0 0 0 1 0 0 1 0 0 0 0 1 0 0 0 1 0 0 1 0 1 0 1 0 0 0 1 1 0 0\n",
            " 0 1 0 0 0 0 0 1 1 0 0 1 0 0 0 0 0 1 0 0 0 1 1 0 0 0 0 0 0 0 0 0 0 1 0 1 0\n",
            " 1 0 0 1 0 0 1 0 0 0 0 1 1 1 0 1 0 0 0 0 1 1 0 1 0 0 0 1 1 1 0 0 0 0 0 0 0\n",
            " 0 0 0 0 1 0 1 0 0 0 0 0 0 0 0 0 0 0 0 1 0 0 0 1 0 0 0 1 0 1 0 0 0 0 0 0 0\n",
            " 0 0 0 0 0 0 0 0 0 1]\n"
          ]
        }
      ]
    },
    {
      "cell_type": "code",
      "source": [
        "# Create line plot of `inertia_errors` vs `n_clusters`\n",
        "fig = px.line(\n",
        "    x=n_clusters,\n",
        "    y=inertia_errors,\n",
        "    title=\"K-Means Model: Inertia vs Number of Clusters\",\n",
        "    )\n",
        "fig.update_layout(xaxis_title=\"Number of clusters (k)\",yaxis_title=\"Inertia\")\n",
        "\n",
        "fig.show()"
      ],
      "metadata": {
        "colab": {
          "base_uri": "https://localhost:8080/",
          "height": 542
        },
        "id": "f7DRchLQJASV",
        "outputId": "10923cdc-6713-46f3-fe50-30bfe93ab613"
      },
      "execution_count": 99,
      "outputs": [
        {
          "output_type": "display_data",
          "data": {
            "text/html": [
              "<html>\n",
              "<head><meta charset=\"utf-8\" /></head>\n",
              "<body>\n",
              "    <div>            <script src=\"https://cdnjs.cloudflare.com/ajax/libs/mathjax/2.7.5/MathJax.js?config=TeX-AMS-MML_SVG\"></script><script type=\"text/javascript\">if (window.MathJax) {MathJax.Hub.Config({SVG: {font: \"STIX-Web\"}});}</script>                <script type=\"text/javascript\">window.PlotlyConfig = {MathJaxConfig: 'local'};</script>\n",
              "        <script src=\"https://cdn.plot.ly/plotly-2.8.3.min.js\"></script>                <div id=\"3fd3679d-4f9b-427d-9a20-ce2054fd3541\" class=\"plotly-graph-div\" style=\"height:525px; width:100%;\"></div>            <script type=\"text/javascript\">                                    window.PLOTLYENV=window.PLOTLYENV || {};                                    if (document.getElementById(\"3fd3679d-4f9b-427d-9a20-ce2054fd3541\")) {                    Plotly.newPlot(                        \"3fd3679d-4f9b-427d-9a20-ce2054fd3541\",                        [{\"hovertemplate\":\"x=%{x}<br>y=%{y}<extra></extra>\",\"legendgroup\":\"\",\"line\":{\"color\":\"#636efa\",\"dash\":\"solid\"},\"marker\":{\"symbol\":\"circle\"},\"mode\":\"lines\",\"name\":\"\",\"orientation\":\"v\",\"showlegend\":false,\"x\":[2,3,4,5,6,7,8,9,10,11],\"xaxis\":\"x\",\"y\":[2615.2862983051355,2083.321838584755,1758.253432916776,1538.0986698355287,1396.1798405788231,1297.763213196276,1220.3259817662486,1149.925802493036,1092.5518185049032,1032.1348339901897],\"yaxis\":\"y\",\"type\":\"scatter\"}],                        {\"template\":{\"data\":{\"bar\":[{\"error_x\":{\"color\":\"#2a3f5f\"},\"error_y\":{\"color\":\"#2a3f5f\"},\"marker\":{\"line\":{\"color\":\"#E5ECF6\",\"width\":0.5},\"pattern\":{\"fillmode\":\"overlay\",\"size\":10,\"solidity\":0.2}},\"type\":\"bar\"}],\"barpolar\":[{\"marker\":{\"line\":{\"color\":\"#E5ECF6\",\"width\":0.5},\"pattern\":{\"fillmode\":\"overlay\",\"size\":10,\"solidity\":0.2}},\"type\":\"barpolar\"}],\"carpet\":[{\"aaxis\":{\"endlinecolor\":\"#2a3f5f\",\"gridcolor\":\"white\",\"linecolor\":\"white\",\"minorgridcolor\":\"white\",\"startlinecolor\":\"#2a3f5f\"},\"baxis\":{\"endlinecolor\":\"#2a3f5f\",\"gridcolor\":\"white\",\"linecolor\":\"white\",\"minorgridcolor\":\"white\",\"startlinecolor\":\"#2a3f5f\"},\"type\":\"carpet\"}],\"choropleth\":[{\"colorbar\":{\"outlinewidth\":0,\"ticks\":\"\"},\"type\":\"choropleth\"}],\"contour\":[{\"colorbar\":{\"outlinewidth\":0,\"ticks\":\"\"},\"colorscale\":[[0.0,\"#0d0887\"],[0.1111111111111111,\"#46039f\"],[0.2222222222222222,\"#7201a8\"],[0.3333333333333333,\"#9c179e\"],[0.4444444444444444,\"#bd3786\"],[0.5555555555555556,\"#d8576b\"],[0.6666666666666666,\"#ed7953\"],[0.7777777777777778,\"#fb9f3a\"],[0.8888888888888888,\"#fdca26\"],[1.0,\"#f0f921\"]],\"type\":\"contour\"}],\"contourcarpet\":[{\"colorbar\":{\"outlinewidth\":0,\"ticks\":\"\"},\"type\":\"contourcarpet\"}],\"heatmap\":[{\"colorbar\":{\"outlinewidth\":0,\"ticks\":\"\"},\"colorscale\":[[0.0,\"#0d0887\"],[0.1111111111111111,\"#46039f\"],[0.2222222222222222,\"#7201a8\"],[0.3333333333333333,\"#9c179e\"],[0.4444444444444444,\"#bd3786\"],[0.5555555555555556,\"#d8576b\"],[0.6666666666666666,\"#ed7953\"],[0.7777777777777778,\"#fb9f3a\"],[0.8888888888888888,\"#fdca26\"],[1.0,\"#f0f921\"]],\"type\":\"heatmap\"}],\"heatmapgl\":[{\"colorbar\":{\"outlinewidth\":0,\"ticks\":\"\"},\"colorscale\":[[0.0,\"#0d0887\"],[0.1111111111111111,\"#46039f\"],[0.2222222222222222,\"#7201a8\"],[0.3333333333333333,\"#9c179e\"],[0.4444444444444444,\"#bd3786\"],[0.5555555555555556,\"#d8576b\"],[0.6666666666666666,\"#ed7953\"],[0.7777777777777778,\"#fb9f3a\"],[0.8888888888888888,\"#fdca26\"],[1.0,\"#f0f921\"]],\"type\":\"heatmapgl\"}],\"histogram\":[{\"marker\":{\"pattern\":{\"fillmode\":\"overlay\",\"size\":10,\"solidity\":0.2}},\"type\":\"histogram\"}],\"histogram2d\":[{\"colorbar\":{\"outlinewidth\":0,\"ticks\":\"\"},\"colorscale\":[[0.0,\"#0d0887\"],[0.1111111111111111,\"#46039f\"],[0.2222222222222222,\"#7201a8\"],[0.3333333333333333,\"#9c179e\"],[0.4444444444444444,\"#bd3786\"],[0.5555555555555556,\"#d8576b\"],[0.6666666666666666,\"#ed7953\"],[0.7777777777777778,\"#fb9f3a\"],[0.8888888888888888,\"#fdca26\"],[1.0,\"#f0f921\"]],\"type\":\"histogram2d\"}],\"histogram2dcontour\":[{\"colorbar\":{\"outlinewidth\":0,\"ticks\":\"\"},\"colorscale\":[[0.0,\"#0d0887\"],[0.1111111111111111,\"#46039f\"],[0.2222222222222222,\"#7201a8\"],[0.3333333333333333,\"#9c179e\"],[0.4444444444444444,\"#bd3786\"],[0.5555555555555556,\"#d8576b\"],[0.6666666666666666,\"#ed7953\"],[0.7777777777777778,\"#fb9f3a\"],[0.8888888888888888,\"#fdca26\"],[1.0,\"#f0f921\"]],\"type\":\"histogram2dcontour\"}],\"mesh3d\":[{\"colorbar\":{\"outlinewidth\":0,\"ticks\":\"\"},\"type\":\"mesh3d\"}],\"parcoords\":[{\"line\":{\"colorbar\":{\"outlinewidth\":0,\"ticks\":\"\"}},\"type\":\"parcoords\"}],\"pie\":[{\"automargin\":true,\"type\":\"pie\"}],\"scatter\":[{\"marker\":{\"colorbar\":{\"outlinewidth\":0,\"ticks\":\"\"}},\"type\":\"scatter\"}],\"scatter3d\":[{\"line\":{\"colorbar\":{\"outlinewidth\":0,\"ticks\":\"\"}},\"marker\":{\"colorbar\":{\"outlinewidth\":0,\"ticks\":\"\"}},\"type\":\"scatter3d\"}],\"scattercarpet\":[{\"marker\":{\"colorbar\":{\"outlinewidth\":0,\"ticks\":\"\"}},\"type\":\"scattercarpet\"}],\"scattergeo\":[{\"marker\":{\"colorbar\":{\"outlinewidth\":0,\"ticks\":\"\"}},\"type\":\"scattergeo\"}],\"scattergl\":[{\"marker\":{\"colorbar\":{\"outlinewidth\":0,\"ticks\":\"\"}},\"type\":\"scattergl\"}],\"scattermapbox\":[{\"marker\":{\"colorbar\":{\"outlinewidth\":0,\"ticks\":\"\"}},\"type\":\"scattermapbox\"}],\"scatterpolar\":[{\"marker\":{\"colorbar\":{\"outlinewidth\":0,\"ticks\":\"\"}},\"type\":\"scatterpolar\"}],\"scatterpolargl\":[{\"marker\":{\"colorbar\":{\"outlinewidth\":0,\"ticks\":\"\"}},\"type\":\"scatterpolargl\"}],\"scatterternary\":[{\"marker\":{\"colorbar\":{\"outlinewidth\":0,\"ticks\":\"\"}},\"type\":\"scatterternary\"}],\"surface\":[{\"colorbar\":{\"outlinewidth\":0,\"ticks\":\"\"},\"colorscale\":[[0.0,\"#0d0887\"],[0.1111111111111111,\"#46039f\"],[0.2222222222222222,\"#7201a8\"],[0.3333333333333333,\"#9c179e\"],[0.4444444444444444,\"#bd3786\"],[0.5555555555555556,\"#d8576b\"],[0.6666666666666666,\"#ed7953\"],[0.7777777777777778,\"#fb9f3a\"],[0.8888888888888888,\"#fdca26\"],[1.0,\"#f0f921\"]],\"type\":\"surface\"}],\"table\":[{\"cells\":{\"fill\":{\"color\":\"#EBF0F8\"},\"line\":{\"color\":\"white\"}},\"header\":{\"fill\":{\"color\":\"#C8D4E3\"},\"line\":{\"color\":\"white\"}},\"type\":\"table\"}]},\"layout\":{\"annotationdefaults\":{\"arrowcolor\":\"#2a3f5f\",\"arrowhead\":0,\"arrowwidth\":1},\"autotypenumbers\":\"strict\",\"coloraxis\":{\"colorbar\":{\"outlinewidth\":0,\"ticks\":\"\"}},\"colorscale\":{\"diverging\":[[0,\"#8e0152\"],[0.1,\"#c51b7d\"],[0.2,\"#de77ae\"],[0.3,\"#f1b6da\"],[0.4,\"#fde0ef\"],[0.5,\"#f7f7f7\"],[0.6,\"#e6f5d0\"],[0.7,\"#b8e186\"],[0.8,\"#7fbc41\"],[0.9,\"#4d9221\"],[1,\"#276419\"]],\"sequential\":[[0.0,\"#0d0887\"],[0.1111111111111111,\"#46039f\"],[0.2222222222222222,\"#7201a8\"],[0.3333333333333333,\"#9c179e\"],[0.4444444444444444,\"#bd3786\"],[0.5555555555555556,\"#d8576b\"],[0.6666666666666666,\"#ed7953\"],[0.7777777777777778,\"#fb9f3a\"],[0.8888888888888888,\"#fdca26\"],[1.0,\"#f0f921\"]],\"sequentialminus\":[[0.0,\"#0d0887\"],[0.1111111111111111,\"#46039f\"],[0.2222222222222222,\"#7201a8\"],[0.3333333333333333,\"#9c179e\"],[0.4444444444444444,\"#bd3786\"],[0.5555555555555556,\"#d8576b\"],[0.6666666666666666,\"#ed7953\"],[0.7777777777777778,\"#fb9f3a\"],[0.8888888888888888,\"#fdca26\"],[1.0,\"#f0f921\"]]},\"colorway\":[\"#636efa\",\"#EF553B\",\"#00cc96\",\"#ab63fa\",\"#FFA15A\",\"#19d3f3\",\"#FF6692\",\"#B6E880\",\"#FF97FF\",\"#FECB52\"],\"font\":{\"color\":\"#2a3f5f\"},\"geo\":{\"bgcolor\":\"white\",\"lakecolor\":\"white\",\"landcolor\":\"#E5ECF6\",\"showlakes\":true,\"showland\":true,\"subunitcolor\":\"white\"},\"hoverlabel\":{\"align\":\"left\"},\"hovermode\":\"closest\",\"mapbox\":{\"style\":\"light\"},\"paper_bgcolor\":\"white\",\"plot_bgcolor\":\"#E5ECF6\",\"polar\":{\"angularaxis\":{\"gridcolor\":\"white\",\"linecolor\":\"white\",\"ticks\":\"\"},\"bgcolor\":\"#E5ECF6\",\"radialaxis\":{\"gridcolor\":\"white\",\"linecolor\":\"white\",\"ticks\":\"\"}},\"scene\":{\"xaxis\":{\"backgroundcolor\":\"#E5ECF6\",\"gridcolor\":\"white\",\"gridwidth\":2,\"linecolor\":\"white\",\"showbackground\":true,\"ticks\":\"\",\"zerolinecolor\":\"white\"},\"yaxis\":{\"backgroundcolor\":\"#E5ECF6\",\"gridcolor\":\"white\",\"gridwidth\":2,\"linecolor\":\"white\",\"showbackground\":true,\"ticks\":\"\",\"zerolinecolor\":\"white\"},\"zaxis\":{\"backgroundcolor\":\"#E5ECF6\",\"gridcolor\":\"white\",\"gridwidth\":2,\"linecolor\":\"white\",\"showbackground\":true,\"ticks\":\"\",\"zerolinecolor\":\"white\"}},\"shapedefaults\":{\"line\":{\"color\":\"#2a3f5f\"}},\"ternary\":{\"aaxis\":{\"gridcolor\":\"white\",\"linecolor\":\"white\",\"ticks\":\"\"},\"baxis\":{\"gridcolor\":\"white\",\"linecolor\":\"white\",\"ticks\":\"\"},\"bgcolor\":\"#E5ECF6\",\"caxis\":{\"gridcolor\":\"white\",\"linecolor\":\"white\",\"ticks\":\"\"}},\"title\":{\"x\":0.05},\"xaxis\":{\"automargin\":true,\"gridcolor\":\"white\",\"linecolor\":\"white\",\"ticks\":\"\",\"title\":{\"standoff\":15},\"zerolinecolor\":\"white\",\"zerolinewidth\":2},\"yaxis\":{\"automargin\":true,\"gridcolor\":\"white\",\"linecolor\":\"white\",\"ticks\":\"\",\"title\":{\"standoff\":15},\"zerolinecolor\":\"white\",\"zerolinewidth\":2}}},\"xaxis\":{\"anchor\":\"y\",\"domain\":[0.0,1.0],\"title\":{\"text\":\"Number of clusters (k)\"}},\"yaxis\":{\"anchor\":\"x\",\"domain\":[0.0,1.0],\"title\":{\"text\":\"Inertia\"}},\"legend\":{\"tracegroupgap\":0},\"title\":{\"text\":\"K-Means Model: Inertia vs Number of Clusters\"}},                        {\"responsive\": true}                    ).then(function(){\n",
              "                            \n",
              "var gd = document.getElementById('3fd3679d-4f9b-427d-9a20-ce2054fd3541');\n",
              "var x = new MutationObserver(function (mutations, observer) {{\n",
              "        var display = window.getComputedStyle(gd).display;\n",
              "        if (!display || display === 'none') {{\n",
              "            console.log([gd, 'removed!']);\n",
              "            Plotly.purge(gd);\n",
              "            observer.disconnect();\n",
              "        }}\n",
              "}});\n",
              "\n",
              "// Listen for the removal of the full notebook cells\n",
              "var notebookContainer = gd.closest('#notebook-container');\n",
              "if (notebookContainer) {{\n",
              "    x.observe(notebookContainer, {childList: true});\n",
              "}}\n",
              "\n",
              "// Listen for the clearing of the current output cell\n",
              "var outputEl = gd.closest('.output');\n",
              "if (outputEl) {{\n",
              "    x.observe(outputEl, {childList: true});\n",
              "}}\n",
              "\n",
              "                        })                };                            </script>        </div>\n",
              "</body>\n",
              "</html>"
            ]
          },
          "metadata": {}
        }
      ]
    },
    {
      "cell_type": "code",
      "source": [
        "final_model = make_pipeline(\n",
        "    StandardScaler(),\n",
        "    KMeans(n_clusters=4,random_state=42)\n",
        ")\n",
        "final_model.fit(X)\n"
      ],
      "metadata": {
        "colab": {
          "base_uri": "https://localhost:8080/"
        },
        "id": "iiZ7i95WJRSU",
        "outputId": "2a2f7faa-5392-4981-b96c-da14212364a5"
      },
      "execution_count": 102,
      "outputs": [
        {
          "output_type": "execute_result",
          "data": {
            "text/plain": [
              "Pipeline(steps=[('standardscaler', StandardScaler()),\n",
              "                ('kmeans', KMeans(n_clusters=4, random_state=42))])"
            ]
          },
          "metadata": {},
          "execution_count": 102
        }
      ]
    },
    {
      "cell_type": "code",
      "source": [
        "labels = final_model.named_steps['kmeans'].labels_\n",
        "print(labels[:5])"
      ],
      "metadata": {
        "colab": {
          "base_uri": "https://localhost:8080/"
        },
        "id": "5ZIS9X_VJYpz",
        "outputId": "682e619c-03b9-4d9a-8f93-850cdec6131c"
      },
      "execution_count": 103,
      "outputs": [
        {
          "output_type": "stream",
          "name": "stdout",
          "text": [
            "[3 2 3 2 0]\n"
          ]
        }
      ]
    },
    {
      "cell_type": "code",
      "source": [
        "xgb = X.groupby(labels).mean()\n",
        "xgb"
      ],
      "metadata": {
        "colab": {
          "base_uri": "https://localhost:8080/",
          "height": 175
        },
        "id": "e9K9BcXpJ9_c",
        "outputId": "72e6955d-e8dc-4d23-a632-458362f9cbc3"
      },
      "execution_count": 104,
      "outputs": [
        {
          "output_type": "execute_result",
          "data": {
            "text/plain": [
              "   Other Debt  Years Employed  DebtIncomeRatio        Age     Income\n",
              "0    2.284748       13.109524         6.781429  40.385714  54.204762\n",
              "1    3.349013        4.214765        18.112752  32.241611  28.268456\n",
              "2    8.125718       13.035294        19.097647  39.494118  64.117647\n",
              "3    1.172837        4.454810         6.766472  30.131195  26.801749"
            ],
            "text/html": [
              "\n",
              "  <div id=\"df-c8b2c8ea-cc45-4c8f-973f-04c23184eb2b\">\n",
              "    <div class=\"colab-df-container\">\n",
              "      <div>\n",
              "<style scoped>\n",
              "    .dataframe tbody tr th:only-of-type {\n",
              "        vertical-align: middle;\n",
              "    }\n",
              "\n",
              "    .dataframe tbody tr th {\n",
              "        vertical-align: top;\n",
              "    }\n",
              "\n",
              "    .dataframe thead th {\n",
              "        text-align: right;\n",
              "    }\n",
              "</style>\n",
              "<table border=\"1\" class=\"dataframe\">\n",
              "  <thead>\n",
              "    <tr style=\"text-align: right;\">\n",
              "      <th></th>\n",
              "      <th>Other Debt</th>\n",
              "      <th>Years Employed</th>\n",
              "      <th>DebtIncomeRatio</th>\n",
              "      <th>Age</th>\n",
              "      <th>Income</th>\n",
              "    </tr>\n",
              "  </thead>\n",
              "  <tbody>\n",
              "    <tr>\n",
              "      <th>0</th>\n",
              "      <td>2.284748</td>\n",
              "      <td>13.109524</td>\n",
              "      <td>6.781429</td>\n",
              "      <td>40.385714</td>\n",
              "      <td>54.204762</td>\n",
              "    </tr>\n",
              "    <tr>\n",
              "      <th>1</th>\n",
              "      <td>3.349013</td>\n",
              "      <td>4.214765</td>\n",
              "      <td>18.112752</td>\n",
              "      <td>32.241611</td>\n",
              "      <td>28.268456</td>\n",
              "    </tr>\n",
              "    <tr>\n",
              "      <th>2</th>\n",
              "      <td>8.125718</td>\n",
              "      <td>13.035294</td>\n",
              "      <td>19.097647</td>\n",
              "      <td>39.494118</td>\n",
              "      <td>64.117647</td>\n",
              "    </tr>\n",
              "    <tr>\n",
              "      <th>3</th>\n",
              "      <td>1.172837</td>\n",
              "      <td>4.454810</td>\n",
              "      <td>6.766472</td>\n",
              "      <td>30.131195</td>\n",
              "      <td>26.801749</td>\n",
              "    </tr>\n",
              "  </tbody>\n",
              "</table>\n",
              "</div>\n",
              "      <button class=\"colab-df-convert\" onclick=\"convertToInteractive('df-c8b2c8ea-cc45-4c8f-973f-04c23184eb2b')\"\n",
              "              title=\"Convert this dataframe to an interactive table.\"\n",
              "              style=\"display:none;\">\n",
              "        \n",
              "  <svg xmlns=\"http://www.w3.org/2000/svg\" height=\"24px\"viewBox=\"0 0 24 24\"\n",
              "       width=\"24px\">\n",
              "    <path d=\"M0 0h24v24H0V0z\" fill=\"none\"/>\n",
              "    <path d=\"M18.56 5.44l.94 2.06.94-2.06 2.06-.94-2.06-.94-.94-2.06-.94 2.06-2.06.94zm-11 1L8.5 8.5l.94-2.06 2.06-.94-2.06-.94L8.5 2.5l-.94 2.06-2.06.94zm10 10l.94 2.06.94-2.06 2.06-.94-2.06-.94-.94-2.06-.94 2.06-2.06.94z\"/><path d=\"M17.41 7.96l-1.37-1.37c-.4-.4-.92-.59-1.43-.59-.52 0-1.04.2-1.43.59L10.3 9.45l-7.72 7.72c-.78.78-.78 2.05 0 2.83L4 21.41c.39.39.9.59 1.41.59.51 0 1.02-.2 1.41-.59l7.78-7.78 2.81-2.81c.8-.78.8-2.07 0-2.86zM5.41 20L4 18.59l7.72-7.72 1.47 1.35L5.41 20z\"/>\n",
              "  </svg>\n",
              "      </button>\n",
              "      \n",
              "  <style>\n",
              "    .colab-df-container {\n",
              "      display:flex;\n",
              "      flex-wrap:wrap;\n",
              "      gap: 12px;\n",
              "    }\n",
              "\n",
              "    .colab-df-convert {\n",
              "      background-color: #E8F0FE;\n",
              "      border: none;\n",
              "      border-radius: 50%;\n",
              "      cursor: pointer;\n",
              "      display: none;\n",
              "      fill: #1967D2;\n",
              "      height: 32px;\n",
              "      padding: 0 0 0 0;\n",
              "      width: 32px;\n",
              "    }\n",
              "\n",
              "    .colab-df-convert:hover {\n",
              "      background-color: #E2EBFA;\n",
              "      box-shadow: 0px 1px 2px rgba(60, 64, 67, 0.3), 0px 1px 3px 1px rgba(60, 64, 67, 0.15);\n",
              "      fill: #174EA6;\n",
              "    }\n",
              "\n",
              "    [theme=dark] .colab-df-convert {\n",
              "      background-color: #3B4455;\n",
              "      fill: #D2E3FC;\n",
              "    }\n",
              "\n",
              "    [theme=dark] .colab-df-convert:hover {\n",
              "      background-color: #434B5C;\n",
              "      box-shadow: 0px 1px 3px 1px rgba(0, 0, 0, 0.15);\n",
              "      filter: drop-shadow(0px 1px 2px rgba(0, 0, 0, 0.3));\n",
              "      fill: #FFFFFF;\n",
              "    }\n",
              "  </style>\n",
              "\n",
              "      <script>\n",
              "        const buttonEl =\n",
              "          document.querySelector('#df-c8b2c8ea-cc45-4c8f-973f-04c23184eb2b button.colab-df-convert');\n",
              "        buttonEl.style.display =\n",
              "          google.colab.kernel.accessAllowed ? 'block' : 'none';\n",
              "\n",
              "        async function convertToInteractive(key) {\n",
              "          const element = document.querySelector('#df-c8b2c8ea-cc45-4c8f-973f-04c23184eb2b');\n",
              "          const dataTable =\n",
              "            await google.colab.kernel.invokeFunction('convertToInteractive',\n",
              "                                                     [key], {});\n",
              "          if (!dataTable) return;\n",
              "\n",
              "          const docLinkHtml = 'Like what you see? Visit the ' +\n",
              "            '<a target=\"_blank\" href=https://colab.research.google.com/notebooks/data_table.ipynb>data table notebook</a>'\n",
              "            + ' to learn more about interactive tables.';\n",
              "          element.innerHTML = '';\n",
              "          dataTable['output_type'] = 'display_data';\n",
              "          await google.colab.output.renderOutput(dataTable, element);\n",
              "          const docLink = document.createElement('div');\n",
              "          docLink.innerHTML = docLinkHtml;\n",
              "          element.appendChild(docLink);\n",
              "        }\n",
              "      </script>\n",
              "    </div>\n",
              "  </div>\n",
              "  "
            ]
          },
          "metadata": {},
          "execution_count": 104
        }
      ]
    },
    {
      "cell_type": "code",
      "source": [
        "fig = px.bar(\n",
        "    xgb,\n",
        "    barmode=\"group\"\n",
        "    \n",
        ")\n",
        "fig.update_layout(xaxis_title='clusters',yaxis_title='Value')\n",
        "fig.show()"
      ],
      "metadata": {
        "colab": {
          "base_uri": "https://localhost:8080/",
          "height": 542
        },
        "id": "EHZcvRGFKD8T",
        "outputId": "9e685971-3711-4c35-cf9f-d60c0dcb31b6"
      },
      "execution_count": 106,
      "outputs": [
        {
          "output_type": "display_data",
          "data": {
            "text/html": [
              "<html>\n",
              "<head><meta charset=\"utf-8\" /></head>\n",
              "<body>\n",
              "    <div>            <script src=\"https://cdnjs.cloudflare.com/ajax/libs/mathjax/2.7.5/MathJax.js?config=TeX-AMS-MML_SVG\"></script><script type=\"text/javascript\">if (window.MathJax) {MathJax.Hub.Config({SVG: {font: \"STIX-Web\"}});}</script>                <script type=\"text/javascript\">window.PlotlyConfig = {MathJaxConfig: 'local'};</script>\n",
              "        <script src=\"https://cdn.plot.ly/plotly-2.8.3.min.js\"></script>                <div id=\"da294185-4455-4aa1-93cb-e47c47caba6c\" class=\"plotly-graph-div\" style=\"height:525px; width:100%;\"></div>            <script type=\"text/javascript\">                                    window.PLOTLYENV=window.PLOTLYENV || {};                                    if (document.getElementById(\"da294185-4455-4aa1-93cb-e47c47caba6c\")) {                    Plotly.newPlot(                        \"da294185-4455-4aa1-93cb-e47c47caba6c\",                        [{\"alignmentgroup\":\"True\",\"hovertemplate\":\"variable=Other Debt<br>index=%{x}<br>value=%{y}<extra></extra>\",\"legendgroup\":\"Other Debt\",\"marker\":{\"color\":\"#636efa\",\"pattern\":{\"shape\":\"\"}},\"name\":\"Other Debt\",\"offsetgroup\":\"Other Debt\",\"orientation\":\"v\",\"showlegend\":true,\"textposition\":\"auto\",\"x\":[0,1,2,3],\"xaxis\":\"x\",\"y\":[2.2847476190476192,3.3490134228187918,8.125717647058824,1.1728367346938775],\"yaxis\":\"y\",\"type\":\"bar\"},{\"alignmentgroup\":\"True\",\"hovertemplate\":\"variable=Years Employed<br>index=%{x}<br>value=%{y}<extra></extra>\",\"legendgroup\":\"Years Employed\",\"marker\":{\"color\":\"#EF553B\",\"pattern\":{\"shape\":\"\"}},\"name\":\"Years Employed\",\"offsetgroup\":\"Years Employed\",\"orientation\":\"v\",\"showlegend\":true,\"textposition\":\"auto\",\"x\":[0,1,2,3],\"xaxis\":\"x\",\"y\":[13.10952380952381,4.214765100671141,13.035294117647059,4.454810495626822],\"yaxis\":\"y\",\"type\":\"bar\"},{\"alignmentgroup\":\"True\",\"hovertemplate\":\"variable=DebtIncomeRatio<br>index=%{x}<br>value=%{y}<extra></extra>\",\"legendgroup\":\"DebtIncomeRatio\",\"marker\":{\"color\":\"#00cc96\",\"pattern\":{\"shape\":\"\"}},\"name\":\"DebtIncomeRatio\",\"offsetgroup\":\"DebtIncomeRatio\",\"orientation\":\"v\",\"showlegend\":true,\"textposition\":\"auto\",\"x\":[0,1,2,3],\"xaxis\":\"x\",\"y\":[6.781428571428571,18.11275167785235,19.09764705882353,6.7664723032069976],\"yaxis\":\"y\",\"type\":\"bar\"},{\"alignmentgroup\":\"True\",\"hovertemplate\":\"variable=Age<br>index=%{x}<br>value=%{y}<extra></extra>\",\"legendgroup\":\"Age\",\"marker\":{\"color\":\"#ab63fa\",\"pattern\":{\"shape\":\"\"}},\"name\":\"Age\",\"offsetgroup\":\"Age\",\"orientation\":\"v\",\"showlegend\":true,\"textposition\":\"auto\",\"x\":[0,1,2,3],\"xaxis\":\"x\",\"y\":[40.385714285714286,32.241610738255034,39.49411764705882,30.131195335276967],\"yaxis\":\"y\",\"type\":\"bar\"},{\"alignmentgroup\":\"True\",\"hovertemplate\":\"variable=Income<br>index=%{x}<br>value=%{y}<extra></extra>\",\"legendgroup\":\"Income\",\"marker\":{\"color\":\"#FFA15A\",\"pattern\":{\"shape\":\"\"}},\"name\":\"Income\",\"offsetgroup\":\"Income\",\"orientation\":\"v\",\"showlegend\":true,\"textposition\":\"auto\",\"x\":[0,1,2,3],\"xaxis\":\"x\",\"y\":[54.2047619047619,28.268456375838927,64.11764705882354,26.801749271137027],\"yaxis\":\"y\",\"type\":\"bar\"}],                        {\"template\":{\"data\":{\"bar\":[{\"error_x\":{\"color\":\"#2a3f5f\"},\"error_y\":{\"color\":\"#2a3f5f\"},\"marker\":{\"line\":{\"color\":\"#E5ECF6\",\"width\":0.5},\"pattern\":{\"fillmode\":\"overlay\",\"size\":10,\"solidity\":0.2}},\"type\":\"bar\"}],\"barpolar\":[{\"marker\":{\"line\":{\"color\":\"#E5ECF6\",\"width\":0.5},\"pattern\":{\"fillmode\":\"overlay\",\"size\":10,\"solidity\":0.2}},\"type\":\"barpolar\"}],\"carpet\":[{\"aaxis\":{\"endlinecolor\":\"#2a3f5f\",\"gridcolor\":\"white\",\"linecolor\":\"white\",\"minorgridcolor\":\"white\",\"startlinecolor\":\"#2a3f5f\"},\"baxis\":{\"endlinecolor\":\"#2a3f5f\",\"gridcolor\":\"white\",\"linecolor\":\"white\",\"minorgridcolor\":\"white\",\"startlinecolor\":\"#2a3f5f\"},\"type\":\"carpet\"}],\"choropleth\":[{\"colorbar\":{\"outlinewidth\":0,\"ticks\":\"\"},\"type\":\"choropleth\"}],\"contour\":[{\"colorbar\":{\"outlinewidth\":0,\"ticks\":\"\"},\"colorscale\":[[0.0,\"#0d0887\"],[0.1111111111111111,\"#46039f\"],[0.2222222222222222,\"#7201a8\"],[0.3333333333333333,\"#9c179e\"],[0.4444444444444444,\"#bd3786\"],[0.5555555555555556,\"#d8576b\"],[0.6666666666666666,\"#ed7953\"],[0.7777777777777778,\"#fb9f3a\"],[0.8888888888888888,\"#fdca26\"],[1.0,\"#f0f921\"]],\"type\":\"contour\"}],\"contourcarpet\":[{\"colorbar\":{\"outlinewidth\":0,\"ticks\":\"\"},\"type\":\"contourcarpet\"}],\"heatmap\":[{\"colorbar\":{\"outlinewidth\":0,\"ticks\":\"\"},\"colorscale\":[[0.0,\"#0d0887\"],[0.1111111111111111,\"#46039f\"],[0.2222222222222222,\"#7201a8\"],[0.3333333333333333,\"#9c179e\"],[0.4444444444444444,\"#bd3786\"],[0.5555555555555556,\"#d8576b\"],[0.6666666666666666,\"#ed7953\"],[0.7777777777777778,\"#fb9f3a\"],[0.8888888888888888,\"#fdca26\"],[1.0,\"#f0f921\"]],\"type\":\"heatmap\"}],\"heatmapgl\":[{\"colorbar\":{\"outlinewidth\":0,\"ticks\":\"\"},\"colorscale\":[[0.0,\"#0d0887\"],[0.1111111111111111,\"#46039f\"],[0.2222222222222222,\"#7201a8\"],[0.3333333333333333,\"#9c179e\"],[0.4444444444444444,\"#bd3786\"],[0.5555555555555556,\"#d8576b\"],[0.6666666666666666,\"#ed7953\"],[0.7777777777777778,\"#fb9f3a\"],[0.8888888888888888,\"#fdca26\"],[1.0,\"#f0f921\"]],\"type\":\"heatmapgl\"}],\"histogram\":[{\"marker\":{\"pattern\":{\"fillmode\":\"overlay\",\"size\":10,\"solidity\":0.2}},\"type\":\"histogram\"}],\"histogram2d\":[{\"colorbar\":{\"outlinewidth\":0,\"ticks\":\"\"},\"colorscale\":[[0.0,\"#0d0887\"],[0.1111111111111111,\"#46039f\"],[0.2222222222222222,\"#7201a8\"],[0.3333333333333333,\"#9c179e\"],[0.4444444444444444,\"#bd3786\"],[0.5555555555555556,\"#d8576b\"],[0.6666666666666666,\"#ed7953\"],[0.7777777777777778,\"#fb9f3a\"],[0.8888888888888888,\"#fdca26\"],[1.0,\"#f0f921\"]],\"type\":\"histogram2d\"}],\"histogram2dcontour\":[{\"colorbar\":{\"outlinewidth\":0,\"ticks\":\"\"},\"colorscale\":[[0.0,\"#0d0887\"],[0.1111111111111111,\"#46039f\"],[0.2222222222222222,\"#7201a8\"],[0.3333333333333333,\"#9c179e\"],[0.4444444444444444,\"#bd3786\"],[0.5555555555555556,\"#d8576b\"],[0.6666666666666666,\"#ed7953\"],[0.7777777777777778,\"#fb9f3a\"],[0.8888888888888888,\"#fdca26\"],[1.0,\"#f0f921\"]],\"type\":\"histogram2dcontour\"}],\"mesh3d\":[{\"colorbar\":{\"outlinewidth\":0,\"ticks\":\"\"},\"type\":\"mesh3d\"}],\"parcoords\":[{\"line\":{\"colorbar\":{\"outlinewidth\":0,\"ticks\":\"\"}},\"type\":\"parcoords\"}],\"pie\":[{\"automargin\":true,\"type\":\"pie\"}],\"scatter\":[{\"marker\":{\"colorbar\":{\"outlinewidth\":0,\"ticks\":\"\"}},\"type\":\"scatter\"}],\"scatter3d\":[{\"line\":{\"colorbar\":{\"outlinewidth\":0,\"ticks\":\"\"}},\"marker\":{\"colorbar\":{\"outlinewidth\":0,\"ticks\":\"\"}},\"type\":\"scatter3d\"}],\"scattercarpet\":[{\"marker\":{\"colorbar\":{\"outlinewidth\":0,\"ticks\":\"\"}},\"type\":\"scattercarpet\"}],\"scattergeo\":[{\"marker\":{\"colorbar\":{\"outlinewidth\":0,\"ticks\":\"\"}},\"type\":\"scattergeo\"}],\"scattergl\":[{\"marker\":{\"colorbar\":{\"outlinewidth\":0,\"ticks\":\"\"}},\"type\":\"scattergl\"}],\"scattermapbox\":[{\"marker\":{\"colorbar\":{\"outlinewidth\":0,\"ticks\":\"\"}},\"type\":\"scattermapbox\"}],\"scatterpolar\":[{\"marker\":{\"colorbar\":{\"outlinewidth\":0,\"ticks\":\"\"}},\"type\":\"scatterpolar\"}],\"scatterpolargl\":[{\"marker\":{\"colorbar\":{\"outlinewidth\":0,\"ticks\":\"\"}},\"type\":\"scatterpolargl\"}],\"scatterternary\":[{\"marker\":{\"colorbar\":{\"outlinewidth\":0,\"ticks\":\"\"}},\"type\":\"scatterternary\"}],\"surface\":[{\"colorbar\":{\"outlinewidth\":0,\"ticks\":\"\"},\"colorscale\":[[0.0,\"#0d0887\"],[0.1111111111111111,\"#46039f\"],[0.2222222222222222,\"#7201a8\"],[0.3333333333333333,\"#9c179e\"],[0.4444444444444444,\"#bd3786\"],[0.5555555555555556,\"#d8576b\"],[0.6666666666666666,\"#ed7953\"],[0.7777777777777778,\"#fb9f3a\"],[0.8888888888888888,\"#fdca26\"],[1.0,\"#f0f921\"]],\"type\":\"surface\"}],\"table\":[{\"cells\":{\"fill\":{\"color\":\"#EBF0F8\"},\"line\":{\"color\":\"white\"}},\"header\":{\"fill\":{\"color\":\"#C8D4E3\"},\"line\":{\"color\":\"white\"}},\"type\":\"table\"}]},\"layout\":{\"annotationdefaults\":{\"arrowcolor\":\"#2a3f5f\",\"arrowhead\":0,\"arrowwidth\":1},\"autotypenumbers\":\"strict\",\"coloraxis\":{\"colorbar\":{\"outlinewidth\":0,\"ticks\":\"\"}},\"colorscale\":{\"diverging\":[[0,\"#8e0152\"],[0.1,\"#c51b7d\"],[0.2,\"#de77ae\"],[0.3,\"#f1b6da\"],[0.4,\"#fde0ef\"],[0.5,\"#f7f7f7\"],[0.6,\"#e6f5d0\"],[0.7,\"#b8e186\"],[0.8,\"#7fbc41\"],[0.9,\"#4d9221\"],[1,\"#276419\"]],\"sequential\":[[0.0,\"#0d0887\"],[0.1111111111111111,\"#46039f\"],[0.2222222222222222,\"#7201a8\"],[0.3333333333333333,\"#9c179e\"],[0.4444444444444444,\"#bd3786\"],[0.5555555555555556,\"#d8576b\"],[0.6666666666666666,\"#ed7953\"],[0.7777777777777778,\"#fb9f3a\"],[0.8888888888888888,\"#fdca26\"],[1.0,\"#f0f921\"]],\"sequentialminus\":[[0.0,\"#0d0887\"],[0.1111111111111111,\"#46039f\"],[0.2222222222222222,\"#7201a8\"],[0.3333333333333333,\"#9c179e\"],[0.4444444444444444,\"#bd3786\"],[0.5555555555555556,\"#d8576b\"],[0.6666666666666666,\"#ed7953\"],[0.7777777777777778,\"#fb9f3a\"],[0.8888888888888888,\"#fdca26\"],[1.0,\"#f0f921\"]]},\"colorway\":[\"#636efa\",\"#EF553B\",\"#00cc96\",\"#ab63fa\",\"#FFA15A\",\"#19d3f3\",\"#FF6692\",\"#B6E880\",\"#FF97FF\",\"#FECB52\"],\"font\":{\"color\":\"#2a3f5f\"},\"geo\":{\"bgcolor\":\"white\",\"lakecolor\":\"white\",\"landcolor\":\"#E5ECF6\",\"showlakes\":true,\"showland\":true,\"subunitcolor\":\"white\"},\"hoverlabel\":{\"align\":\"left\"},\"hovermode\":\"closest\",\"mapbox\":{\"style\":\"light\"},\"paper_bgcolor\":\"white\",\"plot_bgcolor\":\"#E5ECF6\",\"polar\":{\"angularaxis\":{\"gridcolor\":\"white\",\"linecolor\":\"white\",\"ticks\":\"\"},\"bgcolor\":\"#E5ECF6\",\"radialaxis\":{\"gridcolor\":\"white\",\"linecolor\":\"white\",\"ticks\":\"\"}},\"scene\":{\"xaxis\":{\"backgroundcolor\":\"#E5ECF6\",\"gridcolor\":\"white\",\"gridwidth\":2,\"linecolor\":\"white\",\"showbackground\":true,\"ticks\":\"\",\"zerolinecolor\":\"white\"},\"yaxis\":{\"backgroundcolor\":\"#E5ECF6\",\"gridcolor\":\"white\",\"gridwidth\":2,\"linecolor\":\"white\",\"showbackground\":true,\"ticks\":\"\",\"zerolinecolor\":\"white\"},\"zaxis\":{\"backgroundcolor\":\"#E5ECF6\",\"gridcolor\":\"white\",\"gridwidth\":2,\"linecolor\":\"white\",\"showbackground\":true,\"ticks\":\"\",\"zerolinecolor\":\"white\"}},\"shapedefaults\":{\"line\":{\"color\":\"#2a3f5f\"}},\"ternary\":{\"aaxis\":{\"gridcolor\":\"white\",\"linecolor\":\"white\",\"ticks\":\"\"},\"baxis\":{\"gridcolor\":\"white\",\"linecolor\":\"white\",\"ticks\":\"\"},\"bgcolor\":\"#E5ECF6\",\"caxis\":{\"gridcolor\":\"white\",\"linecolor\":\"white\",\"ticks\":\"\"}},\"title\":{\"x\":0.05},\"xaxis\":{\"automargin\":true,\"gridcolor\":\"white\",\"linecolor\":\"white\",\"ticks\":\"\",\"title\":{\"standoff\":15},\"zerolinecolor\":\"white\",\"zerolinewidth\":2},\"yaxis\":{\"automargin\":true,\"gridcolor\":\"white\",\"linecolor\":\"white\",\"ticks\":\"\",\"title\":{\"standoff\":15},\"zerolinecolor\":\"white\",\"zerolinewidth\":2}}},\"xaxis\":{\"anchor\":\"y\",\"domain\":[0.0,1.0],\"title\":{\"text\":\"clusters\"}},\"yaxis\":{\"anchor\":\"x\",\"domain\":[0.0,1.0],\"title\":{\"text\":\"Value\"}},\"legend\":{\"title\":{\"text\":\"variable\"},\"tracegroupgap\":0},\"margin\":{\"t\":60},\"barmode\":\"group\"},                        {\"responsive\": true}                    ).then(function(){\n",
              "                            \n",
              "var gd = document.getElementById('da294185-4455-4aa1-93cb-e47c47caba6c');\n",
              "var x = new MutationObserver(function (mutations, observer) {{\n",
              "        var display = window.getComputedStyle(gd).display;\n",
              "        if (!display || display === 'none') {{\n",
              "            console.log([gd, 'removed!']);\n",
              "            Plotly.purge(gd);\n",
              "            observer.disconnect();\n",
              "        }}\n",
              "}});\n",
              "\n",
              "// Listen for the removal of the full notebook cells\n",
              "var notebookContainer = gd.closest('#notebook-container');\n",
              "if (notebookContainer) {{\n",
              "    x.observe(notebookContainer, {childList: true});\n",
              "}}\n",
              "\n",
              "// Listen for the clearing of the current output cell\n",
              "var outputEl = gd.closest('.output');\n",
              "if (outputEl) {{\n",
              "    x.observe(outputEl, {childList: true});\n",
              "}}\n",
              "\n",
              "                        })                };                            </script>        </div>\n",
              "</body>\n",
              "</html>"
            ]
          },
          "metadata": {}
        }
      ]
    },
    {
      "cell_type": "markdown",
      "source": [
        "since we have 5 features we can't use scatterplot so what we do is we have to decrease our dimension from 5 to 2 using Principal Component Analysis(PCA)"
      ],
      "metadata": {
        "id": "DtBBwAAxKys1"
      }
    },
    {
      "cell_type": "code",
      "source": [
        "# Instantiate transformer\n",
        "pca = PCA(n_components=2,random_state=42)\n",
        "\n",
        "# Transform `X`\n",
        "X_t = pca.fit_transform(X)\n",
        "\n",
        "# Put `X_t` into DataFrame\n",
        "X_pca = pd.DataFrame(X_t,columns=[\"PC1\",\"PC2\"])\n",
        "\n",
        "print(\"X_pca shape:\", X_pca.shape)\n",
        "X_pca.head()"
      ],
      "metadata": {
        "colab": {
          "base_uri": "https://localhost:8080/",
          "height": 224
        },
        "id": "KJtkS4DNKL67",
        "outputId": "aee8054f-b39e-4527-af13-4d8d15542303"
      },
      "execution_count": 107,
      "outputs": [
        {
          "output_type": "stream",
          "name": "stdout",
          "text": [
            "X_pca shape: (787, 2)\n"
          ]
        },
        {
          "output_type": "execute_result",
          "data": {
            "text/plain": [
              "         PC1        PC2\n",
              "0 -17.575161  -5.383564\n",
              "1  18.228399  11.346792\n",
              "2 -20.555295  -3.699143\n",
              "3  45.257607   0.792166\n",
              "4  16.624198  -8.601595"
            ],
            "text/html": [
              "\n",
              "  <div id=\"df-93a29cdf-04bf-4d3f-aae3-22937b60ff6b\">\n",
              "    <div class=\"colab-df-container\">\n",
              "      <div>\n",
              "<style scoped>\n",
              "    .dataframe tbody tr th:only-of-type {\n",
              "        vertical-align: middle;\n",
              "    }\n",
              "\n",
              "    .dataframe tbody tr th {\n",
              "        vertical-align: top;\n",
              "    }\n",
              "\n",
              "    .dataframe thead th {\n",
              "        text-align: right;\n",
              "    }\n",
              "</style>\n",
              "<table border=\"1\" class=\"dataframe\">\n",
              "  <thead>\n",
              "    <tr style=\"text-align: right;\">\n",
              "      <th></th>\n",
              "      <th>PC1</th>\n",
              "      <th>PC2</th>\n",
              "    </tr>\n",
              "  </thead>\n",
              "  <tbody>\n",
              "    <tr>\n",
              "      <th>0</th>\n",
              "      <td>-17.575161</td>\n",
              "      <td>-5.383564</td>\n",
              "    </tr>\n",
              "    <tr>\n",
              "      <th>1</th>\n",
              "      <td>18.228399</td>\n",
              "      <td>11.346792</td>\n",
              "    </tr>\n",
              "    <tr>\n",
              "      <th>2</th>\n",
              "      <td>-20.555295</td>\n",
              "      <td>-3.699143</td>\n",
              "    </tr>\n",
              "    <tr>\n",
              "      <th>3</th>\n",
              "      <td>45.257607</td>\n",
              "      <td>0.792166</td>\n",
              "    </tr>\n",
              "    <tr>\n",
              "      <th>4</th>\n",
              "      <td>16.624198</td>\n",
              "      <td>-8.601595</td>\n",
              "    </tr>\n",
              "  </tbody>\n",
              "</table>\n",
              "</div>\n",
              "      <button class=\"colab-df-convert\" onclick=\"convertToInteractive('df-93a29cdf-04bf-4d3f-aae3-22937b60ff6b')\"\n",
              "              title=\"Convert this dataframe to an interactive table.\"\n",
              "              style=\"display:none;\">\n",
              "        \n",
              "  <svg xmlns=\"http://www.w3.org/2000/svg\" height=\"24px\"viewBox=\"0 0 24 24\"\n",
              "       width=\"24px\">\n",
              "    <path d=\"M0 0h24v24H0V0z\" fill=\"none\"/>\n",
              "    <path d=\"M18.56 5.44l.94 2.06.94-2.06 2.06-.94-2.06-.94-.94-2.06-.94 2.06-2.06.94zm-11 1L8.5 8.5l.94-2.06 2.06-.94-2.06-.94L8.5 2.5l-.94 2.06-2.06.94zm10 10l.94 2.06.94-2.06 2.06-.94-2.06-.94-.94-2.06-.94 2.06-2.06.94z\"/><path d=\"M17.41 7.96l-1.37-1.37c-.4-.4-.92-.59-1.43-.59-.52 0-1.04.2-1.43.59L10.3 9.45l-7.72 7.72c-.78.78-.78 2.05 0 2.83L4 21.41c.39.39.9.59 1.41.59.51 0 1.02-.2 1.41-.59l7.78-7.78 2.81-2.81c.8-.78.8-2.07 0-2.86zM5.41 20L4 18.59l7.72-7.72 1.47 1.35L5.41 20z\"/>\n",
              "  </svg>\n",
              "      </button>\n",
              "      \n",
              "  <style>\n",
              "    .colab-df-container {\n",
              "      display:flex;\n",
              "      flex-wrap:wrap;\n",
              "      gap: 12px;\n",
              "    }\n",
              "\n",
              "    .colab-df-convert {\n",
              "      background-color: #E8F0FE;\n",
              "      border: none;\n",
              "      border-radius: 50%;\n",
              "      cursor: pointer;\n",
              "      display: none;\n",
              "      fill: #1967D2;\n",
              "      height: 32px;\n",
              "      padding: 0 0 0 0;\n",
              "      width: 32px;\n",
              "    }\n",
              "\n",
              "    .colab-df-convert:hover {\n",
              "      background-color: #E2EBFA;\n",
              "      box-shadow: 0px 1px 2px rgba(60, 64, 67, 0.3), 0px 1px 3px 1px rgba(60, 64, 67, 0.15);\n",
              "      fill: #174EA6;\n",
              "    }\n",
              "\n",
              "    [theme=dark] .colab-df-convert {\n",
              "      background-color: #3B4455;\n",
              "      fill: #D2E3FC;\n",
              "    }\n",
              "\n",
              "    [theme=dark] .colab-df-convert:hover {\n",
              "      background-color: #434B5C;\n",
              "      box-shadow: 0px 1px 3px 1px rgba(0, 0, 0, 0.15);\n",
              "      filter: drop-shadow(0px 1px 2px rgba(0, 0, 0, 0.3));\n",
              "      fill: #FFFFFF;\n",
              "    }\n",
              "  </style>\n",
              "\n",
              "      <script>\n",
              "        const buttonEl =\n",
              "          document.querySelector('#df-93a29cdf-04bf-4d3f-aae3-22937b60ff6b button.colab-df-convert');\n",
              "        buttonEl.style.display =\n",
              "          google.colab.kernel.accessAllowed ? 'block' : 'none';\n",
              "\n",
              "        async function convertToInteractive(key) {\n",
              "          const element = document.querySelector('#df-93a29cdf-04bf-4d3f-aae3-22937b60ff6b');\n",
              "          const dataTable =\n",
              "            await google.colab.kernel.invokeFunction('convertToInteractive',\n",
              "                                                     [key], {});\n",
              "          if (!dataTable) return;\n",
              "\n",
              "          const docLinkHtml = 'Like what you see? Visit the ' +\n",
              "            '<a target=\"_blank\" href=https://colab.research.google.com/notebooks/data_table.ipynb>data table notebook</a>'\n",
              "            + ' to learn more about interactive tables.';\n",
              "          element.innerHTML = '';\n",
              "          dataTable['output_type'] = 'display_data';\n",
              "          await google.colab.output.renderOutput(dataTable, element);\n",
              "          const docLink = document.createElement('div');\n",
              "          docLink.innerHTML = docLinkHtml;\n",
              "          element.appendChild(docLink);\n",
              "        }\n",
              "      </script>\n",
              "    </div>\n",
              "  </div>\n",
              "  "
            ]
          },
          "metadata": {},
          "execution_count": 107
        }
      ]
    },
    {
      "cell_type": "code",
      "source": [
        "# Create scatter plot of `PC2` vs `PC1`\n",
        "fig = px.scatter(\n",
        "    data_frame=X_pca,\n",
        "    x=\"PC1\"\n",
        "    ,y=\"PC2\"\n",
        "    ,color=labels.astype(str)\n",
        "    ,title=\"PCA Representation of Cluster\"\n",
        ")\n",
        "fig.update_layout(xaxis_title='PC1',yaxis_title='PC2')\n",
        "fig.show()"
      ],
      "metadata": {
        "colab": {
          "base_uri": "https://localhost:8080/",
          "height": 542
        },
        "id": "cFmfDbC0LPKS",
        "outputId": "13bf0b06-3927-4db5-ba2d-f8cc4bbe5092"
      },
      "execution_count": 108,
      "outputs": [
        {
          "output_type": "display_data",
          "data": {
            "text/html": [
              "<html>\n",
              "<head><meta charset=\"utf-8\" /></head>\n",
              "<body>\n",
              "    <div>            <script src=\"https://cdnjs.cloudflare.com/ajax/libs/mathjax/2.7.5/MathJax.js?config=TeX-AMS-MML_SVG\"></script><script type=\"text/javascript\">if (window.MathJax) {MathJax.Hub.Config({SVG: {font: \"STIX-Web\"}});}</script>                <script type=\"text/javascript\">window.PlotlyConfig = {MathJaxConfig: 'local'};</script>\n",
              "        <script src=\"https://cdn.plot.ly/plotly-2.8.3.min.js\"></script>                <div id=\"f220b057-caea-41a6-945b-affce0e784b2\" class=\"plotly-graph-div\" style=\"height:525px; width:100%;\"></div>            <script type=\"text/javascript\">                                    window.PLOTLYENV=window.PLOTLYENV || {};                                    if (document.getElementById(\"f220b057-caea-41a6-945b-affce0e784b2\")) {                    Plotly.newPlot(                        \"f220b057-caea-41a6-945b-affce0e784b2\",                        [{\"hovertemplate\":\"color=3<br>PC1=%{x}<br>PC2=%{y}<extra></extra>\",\"legendgroup\":\"3\",\"marker\":{\"color\":\"#636efa\",\"symbol\":\"circle\"},\"mode\":\"markers\",\"name\":\"3\",\"orientation\":\"v\",\"showlegend\":true,\"x\":[-17.575161264115426,-20.55529505611792,1.4871740325585896,-21.963247813037693,-20.10976597609914,-25.000442247778025,-23.107426759178068,-11.418030932639564,-14.451692150888086,-19.742273609971935,-0.6849036542561354,-9.334693360387508,5.72385065091457,-2.206722981161489,-1.851555199336951,-20.539083477995966,-23.606625771357788,-27.16534707239002,-18.45828672628361,-20.9844923094527,-19.56529402767135,-14.677433456900337,-20.689621114842655,4.624943944717164,-13.531432674766812,-6.186144488129476,-20.3528534402469,-17.905921359777675,2.8926719970409893,-25.818683098784902,-16.990675402212176,-23.732873593965913,-8.467120998237185,-5.730570351081445,-18.868520040446366,-11.29977185391349,-10.891640486574875,-21.880969240485925,-17.97213809725751,-5.011370143926029,0.04108000485854008,-15.416962366332559,-5.018499619508453,-21.182269446726377,-12.398212324789583,-18.10343358515682,-3.276824420588745,-6.26146353374346,3.367383082790528,6.565986045292721,-14.878801345866194,-24.70522713812205,-13.961618391899444,-15.904462415469952,-9.644096229116649,-21.55079775373544,-20.637840364039395,-15.58363156081715,-0.19650160964001515,-14.300868138858398,-7.099433886767777,-21.27787010320314,-17.372156035795527,-5.908284951649539,13.682220774735665,-11.383160685532852,-15.267621652042445,-18.40789627248771,-10.57129338602586,-10.676293297212268,-17.71500324659564,-4.049932342059526,-19.090972172992515,-11.919820872462862,-8.269705588033762,-8.473538266361274,-25.878868029962813,-12.174690413489625,-17.558276334560738,-16.784155905301258,-15.745623661759733,-11.841601298177103,-17.533022401775288,-12.88089697185359,-13.098473483708727,-20.97949844724372,-8.600407818768867,-18.76552248895511,-17.774567615946548,-15.702490661672236,-9.56446443074101,-25.19355442956132,-22.172961658644212,-7.678380403396513,-11.342727615528405,-10.060341982518358,-7.546249561313582,-10.859748700643598,-9.396765860716705,-21.95601752510023,-27.79057405878283,-15.524347937038462,-14.554400762968339,8.828902838268732,1.366088474178689,-9.937923712106695,-16.03855207577946,-11.942931047416348,-23.1250393840591,-11.979923857858884,-12.447405608064361,-14.164187029755853,-26.678104876813048,-15.032414829241484,-9.696029641628186,-6.974028102232897,-16.755576689819787,-6.231563125346395,-17.99821656112237,-20.510927648816153,-8.926934527022608,-7.516573682174274,-23.489519292645305,-15.255483408180972,-22.7693289650379,-14.847465198602487,-24.620890653022517,-23.894240541752506,-11.187150987122276,-15.579635967535824,-7.814037701173252,-17.78512974781923,-24.9728183260769,-21.125005294614873,-20.59901257034319,-24.389682243921037,-5.518362315637427,-20.179831355507815,-5.851316439391703,-14.184257438439596,-6.340468371669154,-11.160223032098216,-16.61635075110775,-19.287008720084962,-12.810976079976355,-21.019320443814184,-21.657922397667544,-26.700305969420732,-7.607567460482802,-19.47254257978635,-25.213302354102126,-3.445029177143048,-13.343663105949407,-18.2047189420441,-17.513770528360805,-0.24686777964698628,-15.672601288211272,-19.16638969857962,-22.595414462852165,1.1180025684924113,-7.419059942657865,-13.340535438972333,-17.571489498457414,-7.7042964207306595,-8.004862410082533,-20.78727866672584,-24.062718799061926,-23.75243208060629,-13.748165129884136,-10.926349096484646,-15.947655507316181,-11.86776465528504,-16.358139490847552,-18.320384422706507,-9.20191849043216,-10.808738417438933,-16.995856976793366,1.5795992678313346,-5.337216739757727,-17.238159059129167,-16.244002506340568,-18.93112190468588,-11.261685143438967,-6.725847208972219,-12.18885586709731,-6.9028017621507995,-16.48186075966456,-15.29059098185413,-23.149919476317155,-3.3220900623463065,-11.881254546997294,-13.779313626339492,3.4812801114656358,-17.533525629407738,-3.2084988902366587,-5.596451188492958,-19.073321025543805,-2.1315973503198817,-25.517213530652658,-16.841754451327922,-22.035127555148033,-18.897774064264595,-10.128943130158435,-15.738122132366527,-10.571757398994015,5.235661986198775,-17.29552893236605,-9.110558592769943,-16.45465310101492,0.21498217800805336,-0.9338043507489421,-21.86070149320298,-14.969511842614313,2.5336880713245162,-19.781684729365107,-19.897527416193277,-13.760084775272924,-17.566610808738304,-20.228322086271863,-20.495861807543548,-14.039480732931573,-15.229954501367493,-0.19612960458724854,-6.246568174346728,-12.445604726644266,-8.23812814572539,-16.877027203061626,-25.084526952144625,-21.430152587808962,-13.782744105096105,-11.034677404027063,-1.9285859512255288,-11.689535421638748,-12.447439250019194,-19.799713551607635,-3.3852882242858406,-9.88735051983581,-4.3181581390955905,-13.152845011594408,-23.02662853782008,-14.652637203504671,-24.71307862693803,-9.126167710560688,-17.82863245725384,-5.466319571597887,-22.469908500996635,-21.835209110326343,-11.023461316317578,-18.34748555837535,-8.861851376176405,-5.411599065024493,-24.86026831735633,-12.347431841814752,-20.19589577127848,-10.363020644019745,-9.558212263307835,4.378686371323983,-14.144571239761216,16.095747324633127,-6.147551692928101,-13.723222731739789,-14.63818847246271,-4.8805298484562964,-24.15198924201009,-13.318166534638902,2.36018007525538,-4.765898799102067,-22.604423509210097,-18.23083559051707,-7.982431407216278,-17.357425895344043,-25.68880772369796,-1.6440472670788366,-9.698782535909503,-18.68174027049029,5.657805584130373,-17.57131845893998,-25.721021904050804,-17.877314107334488,-8.007748598633706,-21.704296149492034,-25.047293143732265,-17.55347289109623,-10.118251798579085,-3.930042042001893,-11.415253021587974,3.750801580027402,-6.86871560258779,-16.156986541134604,5.633964559035882,14.73649017530367,-21.955237776814357,1.2186881268711856,-1.1830749885368046,-13.597869464060315,-2.8744078906808506,-15.017920501198843,-22.968189602148705,-22.91920617034469,-25.224771976793363,27.145494701228635,-4.973496549120239,-22.743526643173535,-16.213073064380467,-16.67866670397784,-4.776371011059272,6.168510840615184,4.5055664497609555,-10.631429182902517,-5.599962579228105,-11.21438069954519,-0.028435170405793256,-23.09169151518717,-13.133964442910463,-17.32642788681051,-5.5552308312283145,-14.94262989992011,-17.736922929793806,-26.73407697994238,-0.4298760343876219,-18.617579569307885,11.965789714907965,-12.341148682460812,-24.675290731063747,-18.2060717213824,-16.228580522788956,-2.377415312999002,-11.0205441924538,-14.066027548920582,1.7155948222403077,-16.454577687939256,-15.912920117868572,-15.086542114914455,-2.919087394196613,-21.010004316126018,-4.575705259274978,-17.225109787316683,-14.267824799338594,-16.429557768411975,5.681403323422703,-14.048509390734448,-5.748097440104845,-9.753874961647288],\"xaxis\":\"x\",\"y\":[-5.383564247272604,-3.6991426382429005,-8.889611650148735,-3.068329836002539,-0.12336676423713887,0.14184600496870092,-7.1619364225535165,-0.9320739663766755,-5.7505447316346405,-6.507120675983594,-4.269537856189387,-1.3136990196225724,-2.053880450545245,-1.5317297941435801,-4.834783372957751,1.8648481461503372,-4.305848041623145,0.8322704706167856,-6.461867482528944,-5.5700898763590185,-5.227012733906526,-3.2967007820032017,-5.489687196334163,-1.8105608869764531,0.8558678608612998,-5.1494654126922805,2.137926187113401,-2.500163840053841,-0.8782073817918575,-3.9108679033285743,3.633585581613198,0.5942760918444682,-1.690404826469744,-7.554044903898058,-7.359315450422255,-8.385435475310414,-1.3450471174288043,-3.837798244944834,3.5503340895311775,-8.472201185701316,-0.5673123301661595,-0.7232574143760551,-4.889204148599332,0.6349213072440205,-4.509848529990358,1.5184193718884658,-0.9714784237052377,-4.960782598079949,-0.9945251104345304,-7.601931386068408,-6.784913819516661,-7.63663658134706,0.9475746981288927,-5.774437453389124,0.38811432736981905,1.5669691277745754,0.023898554040066456,1.7167653626703303,-2.5391003321420342,-4.728188212767359,-1.5474238566118137,-4.829329950455227,1.6362319781933556,-9.202121372081598,-6.543072430783563,-9.494633238643644,-7.166535148204545,1.9735401550478724,-7.705972179565526,-5.658076501706782,-4.51864043976811,2.524296117365105,-3.1504556631854683,-5.35058759655398,-9.42186854093928,0.0220809739304316,-1.7337979534536763,-9.276984224334921,-6.210423372042526,5.0493297619385435,-7.556947341729096,-7.59341989044664,-3.6106925875986544,-1.362907726274997,-0.8479373190888337,4.115403278762536,-4.476491528631473,-1.9129213516680605,-2.0699263820158933,-5.378827493681306,-1.087914241188323,2.9655701168793316,-8.505104603308432,-4.074553878381303,1.594017847277475,-0.7916911763045205,-4.814961708655675,-4.561581226912908,-2.5381524257911154,-0.5799907919523368,-6.009407538803119,0.1343439062013675,-4.298289560219418,-6.522455665577418,-3.1241327099125313,-3.748971411740562,-4.403928842404508,-1.1696410656266651,-7.127596637455622,-0.08816766633826949,0.45623737762356154,-8.296228897786449,1.1272029846295515,-2.4854943002777254,-2.27031007403981,-5.428092533830945,-9.058104547720868,-4.878951100580938,0.6581214223096032,0.9674076832705396,-1.6156333927053574,0.11815522037422381,-1.344643548157119,-0.6306563822016868,1.0100293776274631,-2.2543462124390192,-7.297148614370793,-4.174217239784686,-3.737496380292356,-2.6749315143333012,-4.198853420090217,-4.159044298761627,-7.764190645676006,-5.049733581336979,2.6588900012037127,-7.200529734805725,-8.188651059475356,-8.328192706565797,-2.9220684718915306,-6.097024267981688,-5.648005044231768,-8.09777020333316,-3.690245959221596,-4.0655733057094805,-1.9469362015175702,-2.394930325667668,-4.2066202768608925,0.5915288376078894,-1.5965361085930598,-6.204030340613672,-6.011479998243447,-5.3028684922798535,-7.023532527423853,1.5940937676518523,-1.6234179869527343,-4.261584485728056,-4.925694037567744,-6.169191426191021,3.4000275067642067,-3.400886900882623,1.017486184788936,-6.633232426532468,1.1218402660321132,-3.1872708380353507,-6.827992012723077,-5.663112280163734,-1.1756606604000779,-0.9770823452931884,-4.636703742018477,-9.112578406489868,-5.229206988029691,-2.3615522485733975,-0.7711465045770225,-2.9335249332972473,-0.303846584196204,-0.9622239459904844,-0.37872367228825315,-6.376727875484296,-6.264323288335051,-1.5107648113835206,-3.8122352761972405,-0.03117448172944668,-4.822660953316991,-4.17517450383017,-1.3560484632941385,-5.875518817100875,-4.15483735929175,0.9884228695958487,-3.0755986583074915,-2.8127134916276257,3.982541609987924,-2.920361666438867,-0.14934760037671996,2.665596225075808,1.8338995238076552,1.2121742093069288,2.3239101880517623,-2.0793728143892163,2.032889787771249,-4.912473307113249,4.739482898329242,-2.6665888107668243,-5.682344190369636,-2.0326631871803693,-7.891878435173102,-2.051385565228747,-3.006439710337354,-5.730152202906726,-2.172685133147912,-10.369391233176081,-5.8871288017193315,-2.9312913420850792,0.049911943146336096,-0.8468699844821964,-8.440493225156027,-4.339476768070149,-4.13329036787678,-3.9960203867871034,-4.0576503022358725,-0.5577694910529662,-3.50974210365557,0.8453504082701581,-6.501248034563978,-7.275191012765061,-6.3392110477079555,-0.41750237405780344,-0.532208193842854,-2.022802638588407,-8.553899762774755,0.78897758794113,1.500886219344571,-2.32418877822724,-4.929246966369233,-5.875937462620106,-6.9341966719704695,-8.45225078480984,-5.5658353506592455,-3.382368786082029,2.70924990819153,-2.984593776217186,-4.905309854065036,-8.219201828040445,0.14986829315195582,0.683048933349951,-1.7233706680467535,-1.4766938671259882,-4.843484653344926,-4.191857591259441,3.329413311265507,-7.941615431902831,-3.198102216775514,-2.7482812785980464,-1.5758533359464395,-4.341270679804168,-8.3520276268071,-9.672316611579275,-4.691163524707158,0.6300897764445825,-6.850637535554634,0.9189912677889328,-4.107301191131147,-7.780589998652013,-0.6841405153251174,-3.708446041832099,0.32915017144301395,-4.20914612625011,0.7895124508055693,-0.9463943379847208,-0.6769956012155951,-6.209399401432294,-3.109259666574151,-2.3146394312088723,-9.045935111111998,-1.4712612430030305,-2.7823811864260946,-3.9181217222662457,3.2616787724776266,2.0905187496166096,-2.9173777864115458,-3.715232924826267,-4.091864642508868,0.4319626787930337,-9.655115466733012,-6.305697795817348,-5.658131746499806,-1.7968309264845719,-6.481682769369976,0.7999746974519586,-8.093598963272411,-0.24545475829545874,-2.474184551928742,-2.1620766930178847,-3.800215354380046,2.048027458668846,-0.5482963760952347,-3.8635019815691707,-2.7759742199722166,-3.136119163684437,2.205739970733589,-1.6185879229613922,0.5751664053758188,-3.738568813362816,-4.101086489331137,0.3743585621134906,4.253339927953391,-1.0199758887443149,-8.006817457233838,-4.194955295974039,-4.765384857713073,0.3683900407591185,-0.958274603988687,-2.3748507928490383,-6.098769123397127,-7.170618210656776,3.0377154876976307,-7.274004855809358,-3.391888608012566,-6.924526086970305,-1.849916717368668,-1.3539206847755252,-6.884358092594336,-0.6335641234551856,-3.416640253340498,1.8016676278493164,-9.478357658955058,-4.280166779404318,-6.8953827828175305,-6.157705979546423,-5.831338856741549,-0.574119701061506,-9.848481785928135,3.4710177993687323,-7.395717735433833,-5.307396904634786,1.8569240698138771,-0.33949284472124325,-2.5595185959361646,-2.918881629543407,-3.721264456010579,-6.307932978126898,-2.695871555613972,-2.431015780359011,-7.7940952078102885],\"yaxis\":\"y\",\"type\":\"scatter\"},{\"hovertemplate\":\"color=2<br>PC1=%{x}<br>PC2=%{y}<extra></extra>\",\"legendgroup\":\"2\",\"marker\":{\"color\":\"#EF553B\",\"symbol\":\"circle\"},\"mode\":\"markers\",\"name\":\"2\",\"orientation\":\"v\",\"showlegend\":true,\"x\":[18.22839935595783,45.25760722011498,18.571588381369917,46.54075505334819,-3.502673057124139,29.114303801599924,23.69488689817661,38.28876906506614,29.052751006568585,23.950726975557867,16.13216708215507,16.788084803389943,24.12590597927895,29.60168465655597,5.352311248587796,19.4418993261316,51.30952542052093,-3.591372747628909,29.47175385053562,47.41681704273716,12.324141432153791,48.269347127798575,30.241654201966554,16.47637486360894,22.340784474930615,2.2510170354575845,55.30782352259033,8.285430981868332,53.99479460191615,55.03656346423026,39.599278854108185,18.39411761154153,2.2703157710644466,16.360517836198905,16.143492122821947,29.250753738623928,14.992542004730554,25.27690786935394,34.09511297189136,1.3212880167334773,15.94419164313146,34.75417879527184,44.814527831761424,48.846927271486514,23.721432297500872,24.011104126188226,55.773955237151426,3.4276624227643535,51.08384150273044,28.316044929085418,34.10399324924297,24.960030588353508,23.16929587632422,54.718453221213274,16.265060051484145,18.450154064277466,31.838935437001425,24.263909388159803,25.838786127948993,48.83192034313058,35.675543938321674,20.928367072177625,13.736553592009896,39.64923810760557,43.812035307197846,18.322986694940333,36.335922618259225,14.064793242739366,24.476764162053303,37.16489209818709,57.87790956015992,28.815617810243197,41.538994324248655,29.121961786919854,4.960246828881888,19.678867656549325,6.6191777086101835,24.02447172114323,40.432756024598675,28.868938117460182,42.406140634609734,26.959911234350106,1.1754987257971576,15.63998910889964,14.226896780576434],\"xaxis\":\"x\",\"y\":[11.346791803885539,0.7921664473129703,4.246327326213326,3.9609289955655442,22.294299081293126,12.938026162139376,3.1156688109515804,2.2724642784102906,1.8452032777682772,23.646309555249992,3.633810870929489,18.801263000981063,8.903967822680235,16.16767694764754,12.657070632654985,5.676204922808762,4.925957231756719,11.637435628186406,4.018111819846969,2.8486724040667375,14.267068026896663,6.260963187297095,5.837086022044667,7.139827605774914,5.329561038877018,13.853660496225052,4.586964617181374,8.276901101150639,18.639448036495086,1.1655116112991228,9.238389326653927,14.756080177942483,21.827982555460316,9.169115815826853,6.939604163497609,6.643783683108654,10.966368917592458,5.5838080699322346,17.359584064838597,5.1065549098792005,9.143952569223968,4.601345452717811,3.4619746678483776,19.130252787453575,4.8277476634374334,4.530024766717086,1.5755588364299287,8.069434274101482,9.364484366148712,4.8959212662306895,33.05518911665479,5.209525272015932,10.260128224052108,4.459113574195082,12.450504784282524,4.8819078520972585,21.904061252465596,15.937344821021643,6.036810375282613,3.7832378371325017,15.091508558444243,9.519537620387878,4.610351346685697,12.701626858974068,1.6112450960109264,8.463478844047184,-0.42928159860288334,26.401796842038998,11.11090089813964,3.788797646054257,5.356395370932248,12.355803491988198,6.257512736043318,1.4099417699575005,7.5417084657488065,9.27255666203924,4.70506597265329,23.22570238362717,10.064414464230286,3.4878550174084593,5.479700716498861,3.8517523960884366,11.014952512363612,19.18546879749291,12.012134885283027],\"yaxis\":\"y\",\"type\":\"scatter\"},{\"hovertemplate\":\"color=0<br>PC1=%{x}<br>PC2=%{y}<extra></extra>\",\"legendgroup\":\"0\",\"marker\":{\"color\":\"#00cc96\",\"symbol\":\"circle\"},\"mode\":\"markers\",\"name\":\"0\",\"orientation\":\"v\",\"showlegend\":true,\"x\":[16.62419771480547,24.58626473858145,49.579910765470075,25.752245516675433,-4.075793087329328,41.4396849017613,28.484180106861125,2.4543500154117703,21.32152945203185,6.540475076255767,20.887863287435803,46.173338430942486,33.04291371266499,25.91854949581719,1.5292446008647964,-2.143043397315913,29.683950066307908,40.199608011237395,20.55220625476902,35.389684828272976,56.89570859537629,8.019457840472425,20.278063995220368,36.05706048642282,12.425302255658984,-3.188330656546068,23.34763323757753,10.648073729735112,14.92982656869256,44.15474081924645,15.405473572933891,8.518885142662866,16.431948236275645,34.76916273558208,-0.6589866524397376,19.69587396248154,50.785501292445794,-4.158853988595727,21.355117015984785,-0.5520705691713508,25.496388582791706,0.48381673594230346,42.76812004876716,8.139803833453117,8.314187338873111,18.428985168918476,54.32149306456765,2.27943206625844,-12.206476864989906,5.6348528732916305,35.12513288945555,36.89439783462036,35.543281968418434,31.411947445455098,-8.776632018361429,9.244653993322009,58.02407309524651,9.478362636555518,18.48184508919157,41.658513340903994,9.043862509361677,24.787718355195913,17.199096043736528,-2.112912915586417,5.924619628177172,2.1836211028247714,31.562283254012105,17.474789687326272,6.895462476874842,-5.747592694297643,46.64374671228792,3.9801959109590306,15.41549725539836,4.958615286503256,25.784603676407418,2.165438332436351,2.129410190121297,11.184971633774957,38.44107953029549,6.389238965738057,35.2429778298063,26.043454527598044,22.835651090623582,2.961406386007636,15.949372746045277,9.35886576403674,3.019824713291086,17.743439887640715,12.540626474681263,21.44227222245359,-4.964352050973049,9.790783795831887,37.20881877178647,10.818180220757938,2.231826613944235,19.602178089467667,3.8106359328470853,32.80073535521421,5.271324400431266,-2.9827335359464544,34.66206906784728,31.31701175486362,16.980290778602416,37.04080718562255,-7.3896931801825305,5.622452440922186,-5.005252244210732,42.98199383842895,2.8082703403562195,5.471183986675901,-3.326840419341062,55.14015166845908,-6.988079921480552,21.83246086945862,0.4565946596111201,16.056165364474946,-5.459809949666421,11.019711920061772,7.613538251956249,0.9357643948241293,19.007443856249054,10.903138769971122,15.240160222775394,8.836003576188256,4.064131581014764,43.96906851574505,21.280248119759108,10.419517284387881,58.79162923221685,25.153852532079235,16.51378000513285,37.70721167222606,-1.9010466417092444,-7.833821266487347,9.445256889076314,-3.808063284627283,31.864764113202554,17.062345863925387,-4.296613224677871,3.6274267817974737,12.049485526054426,6.954972220793111,4.263649275438762,9.099520025483804,51.54104694472987,10.7678440334037,63.0145191639226,10.625091439893163,16.616557013023503,10.692150386123464,39.8702027989891,9.438195361049548,15.362037728223596,1.1117391867590567,8.997412046696537,8.041667749410232,8.323028789729776,46.04148671866234,1.746381913024764,-2.194578879867433,13.031629200210977,3.27171121391471,30.151015496395974,-6.891980384670607,30.901675527669845,15.611113461597302,44.87211719935808,40.61757614292034,34.334543996090645,37.586794385268234,13.97539654875423,42.335973302761104,25.39280083056829,11.578495417633793,15.640497804066698,6.860475046025753,59.83227197870535,7.793704274298037,31.7840974805413,25.05714643493842,-8.949124747415787,33.77390358416529,3.4090294799539422,12.960105397336456,1.162648735169628,36.59625545709589,5.625306196938791,22.204224824162647,8.912751257996026,43.48297363675602,16.2562588504683,38.78663176661962,31.647236458983045,24.92236705685036,2.091277450948036,38.73639907485002,0.9304811454071743,25.976136286086838,7.0673828945909944,1.0936759734814436,1.576441988276583,8.179339174236455,18.95571279355561,14.000445246074712,9.794354753343304,-11.09665551513998,22.1880046086134,-1.7317109479099673,5.522580818719356,29.886528163648915],\"xaxis\":\"x\",\"y\":[-8.601594977628826,-2.9707088171120746,-3.5828742469843475,-0.9092666112440173,-0.40462494865325543,-2.962086348665128,-1.867650661615419,1.706217432984694,-8.407475980118074,0.1293916598892921,-2.7366985942401887,-6.480999415338973,-10.309862685062374,-3.603135182567623,-8.149165273443984,4.079128648271327,0.3193808613057272,-6.034774981028268,-6.408354462225108,-8.228969403478619,-0.9721056576790557,-8.173455605550913,-7.872553717312765,-6.43748732033152,-10.993946024026426,-10.016127933792664,-5.554830254103647,-2.1601100668301663,-6.8738359790827355,-7.486713030712852,-5.177376133949957,-2.758151668988545,-7.634539529753995,-5.944274784030541,-7.807697155601359,0.4001037289328754,-11.044706041104634,-2.403224101639366,-0.6610729452583297,-8.171076281341136,-3.5218118420138986,5.6437420607869875,-9.297634751168035,0.8780831113441342,-1.5662597538160548,-5.6954040311388745,-7.2791516031106855,-3.1395118476862858,-2.7294942128748994,1.5898436254475268,-10.11093796684536,-10.604761405574967,-7.475816021297546,-3.5610846116737687,-9.654146832282407,-0.030729572389313377,-7.052789309623748,-4.970880747804058,-4.818852180999155,-10.776306959964185,1.1764591474495063,-10.23982475490128,0.7587841960472109,-6.132047811952961,-1.3122823493449833,-8.106028754564276,-4.035000953220921,0.6652893222441509,-1.7834185485693064,-6.553619530548407,-8.03812211707867,-3.7115607767037053,4.73970878603696,-4.562714910189816,2.5882648815096325,-8.28001348288071,-7.879360810553848,-4.0374481915616345,0.47244469024615093,-6.535274575809607,-4.001834092360012,-4.506606006148881,-0.9989848563357207,-1.407226541214819,-2.5552744438855703,-8.206065039290923,-6.141723192936865,-4.003368052463896,1.7400812344643999,-2.3792862174167144,0.002188864581696938,-6.036712392421902,-0.9062793308071299,-7.991786899695391,1.554632944415845,-9.542593614553919,-6.765652503994385,-1.7386973760894588,-8.10902888941886,-6.7646743688443385,-5.378684397500928,-5.452553845663087,-6.520181724646833,-3.8742023164490744,-6.747299764966046,-3.559343530054082,-3.305116775917257,-3.2482318248355195,-9.85324028050239,-0.4889441400589577,-4.942179013066359,-1.8765151939789033,-5.998224598127644,-2.2685836445526717,-2.395140991325459,0.24539721946000076,1.2518577741681614,-5.8217379556114475,-9.909699773111392,-3.1470288104244277,0.2580155522848422,-9.396516405352356,0.8060495367891428,-7.096945791900497,-6.886329887296507,-5.493087537691269,-5.032911044490246,-2.8037250280939174,-2.2814438987155494,-11.659481596323046,-0.8356407894523344,-3.8713512345615624,-3.304799871279629,-6.127923409079888,-1.019428945354788,-6.907920031725092,-5.532197009294543,-7.764527861944229,1.4888059621456973,-1.648159717757136,-2.8948799040789526,3.5520344645213777,-2.744578979471465,-4.360334103715449,-10.794719272943778,-1.4932783475553477,-9.370930567299977,-7.1595405988540834,-8.845637250860669,-3.1101555937642997,0.4583873756465168,-0.4072247754785068,-1.2896262101514386,-2.719249883918859,-6.087110392938483,-7.082146215946565,-6.583516147611512,-6.650098377764163,-2.7189740964542186,-6.49813285140991,-0.6615329312969664,-2.6213001055832206,-1.430429973223112,-0.31279477547878465,-9.305456190383019,-6.19063040498021,-4.438956033720341,-3.8346219316835866,-1.9900319988604922,-4.838728223200795,-6.51804397124056,-2.3729459144446836,-4.1772064077133875,-5.142742721617617,-3.9200999223512314,3.827914633674291,-6.975510218310168,-10.068296391832467,-3.9613889209029507,2.097995940682713,-3.882232596165557,-0.8293110087860782,-7.7119510823135515,-10.234692792821617,-0.193107466796496,0.5917721242396478,-10.571281916080732,-4.264114402310071,-3.7280054863646535,-8.465260614379586,-8.587193016232598,-3.2685513809262616,-8.685526738299128,-7.13854967027428,-0.9243271354854629,-4.811927296778587,-10.647332898979505,-1.477150432777648,-3.012097885887973,-4.785266643133451,-2.7032070675576003,-9.71574394493343,-4.91352810239973,-0.9519620317687955,-0.21622699451096292,-6.008939999819662,-3.1227917556616998,-8.29025566735105,-6.708561216183832,-3.9046206734568867],\"yaxis\":\"y\",\"type\":\"scatter\"},{\"hovertemplate\":\"color=1<br>PC1=%{x}<br>PC2=%{y}<extra></extra>\",\"legendgroup\":\"1\",\"marker\":{\"color\":\"#ab63fa\",\"symbol\":\"circle\"},\"mode\":\"markers\",\"name\":\"1\",\"orientation\":\"v\",\"showlegend\":true,\"x\":[-21.757442563202453,-5.736108308678283,5.358909061366665,6.680870063659713,-5.808410708317401,-8.709111485576532,-26.605190284502317,-21.480320202486258,-13.976517227510183,-14.822450456762871,-26.44545521740617,0.9985940769528785,-9.81223612807301,-19.9199772696356,-10.990691367524148,-5.779353913715045,-12.748446132666581,-9.499777451397549,-25.125276022527952,-19.393981765185035,-13.645028349481773,-2.4260876994066756,4.02034850401544,-0.056707532570141966,-10.291672159002047,5.956064717070898,-14.775535508546827,-16.352469929018167,2.1934380235062383,3.9515900464634717,-8.135603904551571,7.207088383628444,-21.96171989924331,4.527155841319491,-11.714299779372778,-24.282335460468488,21.744468240385924,-8.616023494505743,-8.61972543413017,16.1021597033557,-26.0427129349489,-14.477293088407226,-4.042233425875861,-17.44992475707766,0.4456127723972112,-14.929812972653071,-13.163156401015938,-17.491645255932358,-22.87150216068405,0.9556637189044468,-13.114161266421378,-22.891181706241095,-9.583891931438872,-12.958337070956075,-15.503234102020928,-24.073637977142138,-8.951716599186263,-23.549460311505413,-17.53301167270272,-23.884986772995756,-7.6121107832141925,-22.3879682225864,-13.919825097344061,-8.777478969785264,-12.084323441345878,-18.14579386684191,-18.53093816552889,-16.809977301362203,-20.91923471266452,-14.018749632309328,4.846557246134451,-15.652807636709131,-14.523029312785383,-0.22294950664761437,-3.988684748090931,1.6262450907722263,-8.963249464058281,-24.211493955317472,-23.338221502858765,-8.667077196614356,-1.1238881113528953,-19.52679578467779,11.29371839342466,-5.871857846025213,-24.320873565673423,-25.47360640268835,-17.916006815812583,-22.33633857406017,-4.338020235807897,-11.264094815123276,-5.68038170518554,-21.805533736155276,-20.761240129929302,-6.62384444727699,-14.892479963637964,-13.681330533656498,-18.7294496535679,-16.097161151619982,2.0151946901237094,-5.766115003899752,-11.531994460649674,-18.0056133382348,-10.752071134304419,6.458262375341521,-1.1447246199462773,-12.314411643644437,-25.59718736342778,-9.558707333777756,-11.910556349828253,3.5334255361549203,4.381462856922135,-17.08868334907236,-15.827008355564725,-5.539856447888446,-6.969964854993529,-8.009161462420522,5.2350873384615255,-23.145194360378117,0.7545751958977716,-19.189446676843325,-15.486069501206632,-16.711831468445396,-13.9133995704456,-6.3895039056448155,-2.6611132091861007,8.267397694342153,-16.429834057219285,-0.5144455436756786,-3.7623869115606965,-6.950582687252407,-27.409157034244554,-19.034528681471848,-11.490673246128152,-17.084498477029648,-9.884907943488297,-11.3912982937958,-6.455725808378265,-5.630003425847548,-15.04285321211544,-21.76805010896455,-4.6609827019922685,-13.856029636290277,-11.021929250956886,-9.860713039161357,4.738341494431006,-8.907804315170043,-1.6002742533125303,-18.180348142372676,-22.749195147430992],\"xaxis\":\"x\",\"y\":[5.804595670877015,5.6536500917354395,2.792749463293399,10.578800482610411,14.506408094026536,9.21788534871952,8.260270041111898,15.025809038528589,2.448282674476082,3.7587804782530805,6.53006058192958,6.719680507192,10.45837014357602,8.974159321057178,4.364952017314354,16.129296886108932,5.0052725484979685,9.016370195546987,6.7734079848955755,10.462862070396277,3.7273690137750295,5.610981639095248,5.51670091053879,3.043188019662456,10.820937617160665,1.6981431638511448,3.2979169438496094,7.674405397329428,8.364667465846376,2.785262962005532,16.206855831981393,5.669140056684492,14.157055785769879,17.20716663007834,9.646239827132773,8.16436728440029,15.879929942095728,14.103877563796804,5.938388365885317,8.005061662846362,6.985286436583359,3.26294349187032,5.978162626448655,12.497545499494004,15.921343388364013,2.236020260952835,8.494432802091866,6.232936592324533,21.21779547458167,7.583354870256611,3.216264395940679,9.785449080677202,5.941584939597387,10.256208711153914,4.472694209648188,4.9553739842746864,1.4640447325207762,8.743570255925217,10.825161405545417,5.2897194250444315,4.115671555157383,17.7741080534129,8.998486374125623,11.387447678234434,-0.030252507757461345,8.36513096253204,2.2247578380761848,9.867374021763915,6.8359503304033025,3.9730069194674225,8.544187807346768,11.844565307428336,4.286908419820748,5.007598950546601,7.524357167281543,11.277234713941551,3.2340546342547274,18.364332807524562,13.606868371270757,5.414848188615986,2.8643388631016427,19.385298672144692,5.508484084361476,5.645609650560431,9.668163579562549,9.284242080130594,10.414668990467435,6.97125958038266,13.471339001650044,11.823952835812744,4.340653591205788,15.463091936627423,6.25700910898027,13.401688140918587,1.4741007850127752,-0.2106341515899181,9.548624433434496,5.461492566731309,3.332052174190751,0.18061096352946918,15.360598773288842,7.970694761162675,25.045017927860496,7.3232195890479925,7.939590187389197,24.377298588124862,4.311037486783514,4.56306194675099,4.9407018611630775,5.6850309784401025,9.579277409477443,4.3825213420184745,11.759952133974416,8.68389064213866,4.263261216544948,7.699151842085073,8.872738513092514,9.680045478255725,6.039517880043223,6.486377514813456,2.6693812580133613,16.53519318336005,3.8898127652551047,2.950306403842586,5.812867108965425,7.103393361470359,1.9514432226328382,3.70018174824981,4.914320650071616,13.05341257155588,8.205987349110979,1.6808627590653915,8.893218197822613,6.6450803913530985,-1.5886149362306954,16.63526532568641,10.414740942661535,7.68455250234083,5.439751156741341,13.778043168621464,2.3585046863699812,3.4691646673433074,7.861328266027063,1.788557202031775,5.17000641650367,6.112028292603058,12.127094936203205,5.114136202114433,23.680407485933383],\"yaxis\":\"y\",\"type\":\"scatter\"}],                        {\"template\":{\"data\":{\"bar\":[{\"error_x\":{\"color\":\"#2a3f5f\"},\"error_y\":{\"color\":\"#2a3f5f\"},\"marker\":{\"line\":{\"color\":\"#E5ECF6\",\"width\":0.5},\"pattern\":{\"fillmode\":\"overlay\",\"size\":10,\"solidity\":0.2}},\"type\":\"bar\"}],\"barpolar\":[{\"marker\":{\"line\":{\"color\":\"#E5ECF6\",\"width\":0.5},\"pattern\":{\"fillmode\":\"overlay\",\"size\":10,\"solidity\":0.2}},\"type\":\"barpolar\"}],\"carpet\":[{\"aaxis\":{\"endlinecolor\":\"#2a3f5f\",\"gridcolor\":\"white\",\"linecolor\":\"white\",\"minorgridcolor\":\"white\",\"startlinecolor\":\"#2a3f5f\"},\"baxis\":{\"endlinecolor\":\"#2a3f5f\",\"gridcolor\":\"white\",\"linecolor\":\"white\",\"minorgridcolor\":\"white\",\"startlinecolor\":\"#2a3f5f\"},\"type\":\"carpet\"}],\"choropleth\":[{\"colorbar\":{\"outlinewidth\":0,\"ticks\":\"\"},\"type\":\"choropleth\"}],\"contour\":[{\"colorbar\":{\"outlinewidth\":0,\"ticks\":\"\"},\"colorscale\":[[0.0,\"#0d0887\"],[0.1111111111111111,\"#46039f\"],[0.2222222222222222,\"#7201a8\"],[0.3333333333333333,\"#9c179e\"],[0.4444444444444444,\"#bd3786\"],[0.5555555555555556,\"#d8576b\"],[0.6666666666666666,\"#ed7953\"],[0.7777777777777778,\"#fb9f3a\"],[0.8888888888888888,\"#fdca26\"],[1.0,\"#f0f921\"]],\"type\":\"contour\"}],\"contourcarpet\":[{\"colorbar\":{\"outlinewidth\":0,\"ticks\":\"\"},\"type\":\"contourcarpet\"}],\"heatmap\":[{\"colorbar\":{\"outlinewidth\":0,\"ticks\":\"\"},\"colorscale\":[[0.0,\"#0d0887\"],[0.1111111111111111,\"#46039f\"],[0.2222222222222222,\"#7201a8\"],[0.3333333333333333,\"#9c179e\"],[0.4444444444444444,\"#bd3786\"],[0.5555555555555556,\"#d8576b\"],[0.6666666666666666,\"#ed7953\"],[0.7777777777777778,\"#fb9f3a\"],[0.8888888888888888,\"#fdca26\"],[1.0,\"#f0f921\"]],\"type\":\"heatmap\"}],\"heatmapgl\":[{\"colorbar\":{\"outlinewidth\":0,\"ticks\":\"\"},\"colorscale\":[[0.0,\"#0d0887\"],[0.1111111111111111,\"#46039f\"],[0.2222222222222222,\"#7201a8\"],[0.3333333333333333,\"#9c179e\"],[0.4444444444444444,\"#bd3786\"],[0.5555555555555556,\"#d8576b\"],[0.6666666666666666,\"#ed7953\"],[0.7777777777777778,\"#fb9f3a\"],[0.8888888888888888,\"#fdca26\"],[1.0,\"#f0f921\"]],\"type\":\"heatmapgl\"}],\"histogram\":[{\"marker\":{\"pattern\":{\"fillmode\":\"overlay\",\"size\":10,\"solidity\":0.2}},\"type\":\"histogram\"}],\"histogram2d\":[{\"colorbar\":{\"outlinewidth\":0,\"ticks\":\"\"},\"colorscale\":[[0.0,\"#0d0887\"],[0.1111111111111111,\"#46039f\"],[0.2222222222222222,\"#7201a8\"],[0.3333333333333333,\"#9c179e\"],[0.4444444444444444,\"#bd3786\"],[0.5555555555555556,\"#d8576b\"],[0.6666666666666666,\"#ed7953\"],[0.7777777777777778,\"#fb9f3a\"],[0.8888888888888888,\"#fdca26\"],[1.0,\"#f0f921\"]],\"type\":\"histogram2d\"}],\"histogram2dcontour\":[{\"colorbar\":{\"outlinewidth\":0,\"ticks\":\"\"},\"colorscale\":[[0.0,\"#0d0887\"],[0.1111111111111111,\"#46039f\"],[0.2222222222222222,\"#7201a8\"],[0.3333333333333333,\"#9c179e\"],[0.4444444444444444,\"#bd3786\"],[0.5555555555555556,\"#d8576b\"],[0.6666666666666666,\"#ed7953\"],[0.7777777777777778,\"#fb9f3a\"],[0.8888888888888888,\"#fdca26\"],[1.0,\"#f0f921\"]],\"type\":\"histogram2dcontour\"}],\"mesh3d\":[{\"colorbar\":{\"outlinewidth\":0,\"ticks\":\"\"},\"type\":\"mesh3d\"}],\"parcoords\":[{\"line\":{\"colorbar\":{\"outlinewidth\":0,\"ticks\":\"\"}},\"type\":\"parcoords\"}],\"pie\":[{\"automargin\":true,\"type\":\"pie\"}],\"scatter\":[{\"marker\":{\"colorbar\":{\"outlinewidth\":0,\"ticks\":\"\"}},\"type\":\"scatter\"}],\"scatter3d\":[{\"line\":{\"colorbar\":{\"outlinewidth\":0,\"ticks\":\"\"}},\"marker\":{\"colorbar\":{\"outlinewidth\":0,\"ticks\":\"\"}},\"type\":\"scatter3d\"}],\"scattercarpet\":[{\"marker\":{\"colorbar\":{\"outlinewidth\":0,\"ticks\":\"\"}},\"type\":\"scattercarpet\"}],\"scattergeo\":[{\"marker\":{\"colorbar\":{\"outlinewidth\":0,\"ticks\":\"\"}},\"type\":\"scattergeo\"}],\"scattergl\":[{\"marker\":{\"colorbar\":{\"outlinewidth\":0,\"ticks\":\"\"}},\"type\":\"scattergl\"}],\"scattermapbox\":[{\"marker\":{\"colorbar\":{\"outlinewidth\":0,\"ticks\":\"\"}},\"type\":\"scattermapbox\"}],\"scatterpolar\":[{\"marker\":{\"colorbar\":{\"outlinewidth\":0,\"ticks\":\"\"}},\"type\":\"scatterpolar\"}],\"scatterpolargl\":[{\"marker\":{\"colorbar\":{\"outlinewidth\":0,\"ticks\":\"\"}},\"type\":\"scatterpolargl\"}],\"scatterternary\":[{\"marker\":{\"colorbar\":{\"outlinewidth\":0,\"ticks\":\"\"}},\"type\":\"scatterternary\"}],\"surface\":[{\"colorbar\":{\"outlinewidth\":0,\"ticks\":\"\"},\"colorscale\":[[0.0,\"#0d0887\"],[0.1111111111111111,\"#46039f\"],[0.2222222222222222,\"#7201a8\"],[0.3333333333333333,\"#9c179e\"],[0.4444444444444444,\"#bd3786\"],[0.5555555555555556,\"#d8576b\"],[0.6666666666666666,\"#ed7953\"],[0.7777777777777778,\"#fb9f3a\"],[0.8888888888888888,\"#fdca26\"],[1.0,\"#f0f921\"]],\"type\":\"surface\"}],\"table\":[{\"cells\":{\"fill\":{\"color\":\"#EBF0F8\"},\"line\":{\"color\":\"white\"}},\"header\":{\"fill\":{\"color\":\"#C8D4E3\"},\"line\":{\"color\":\"white\"}},\"type\":\"table\"}]},\"layout\":{\"annotationdefaults\":{\"arrowcolor\":\"#2a3f5f\",\"arrowhead\":0,\"arrowwidth\":1},\"autotypenumbers\":\"strict\",\"coloraxis\":{\"colorbar\":{\"outlinewidth\":0,\"ticks\":\"\"}},\"colorscale\":{\"diverging\":[[0,\"#8e0152\"],[0.1,\"#c51b7d\"],[0.2,\"#de77ae\"],[0.3,\"#f1b6da\"],[0.4,\"#fde0ef\"],[0.5,\"#f7f7f7\"],[0.6,\"#e6f5d0\"],[0.7,\"#b8e186\"],[0.8,\"#7fbc41\"],[0.9,\"#4d9221\"],[1,\"#276419\"]],\"sequential\":[[0.0,\"#0d0887\"],[0.1111111111111111,\"#46039f\"],[0.2222222222222222,\"#7201a8\"],[0.3333333333333333,\"#9c179e\"],[0.4444444444444444,\"#bd3786\"],[0.5555555555555556,\"#d8576b\"],[0.6666666666666666,\"#ed7953\"],[0.7777777777777778,\"#fb9f3a\"],[0.8888888888888888,\"#fdca26\"],[1.0,\"#f0f921\"]],\"sequentialminus\":[[0.0,\"#0d0887\"],[0.1111111111111111,\"#46039f\"],[0.2222222222222222,\"#7201a8\"],[0.3333333333333333,\"#9c179e\"],[0.4444444444444444,\"#bd3786\"],[0.5555555555555556,\"#d8576b\"],[0.6666666666666666,\"#ed7953\"],[0.7777777777777778,\"#fb9f3a\"],[0.8888888888888888,\"#fdca26\"],[1.0,\"#f0f921\"]]},\"colorway\":[\"#636efa\",\"#EF553B\",\"#00cc96\",\"#ab63fa\",\"#FFA15A\",\"#19d3f3\",\"#FF6692\",\"#B6E880\",\"#FF97FF\",\"#FECB52\"],\"font\":{\"color\":\"#2a3f5f\"},\"geo\":{\"bgcolor\":\"white\",\"lakecolor\":\"white\",\"landcolor\":\"#E5ECF6\",\"showlakes\":true,\"showland\":true,\"subunitcolor\":\"white\"},\"hoverlabel\":{\"align\":\"left\"},\"hovermode\":\"closest\",\"mapbox\":{\"style\":\"light\"},\"paper_bgcolor\":\"white\",\"plot_bgcolor\":\"#E5ECF6\",\"polar\":{\"angularaxis\":{\"gridcolor\":\"white\",\"linecolor\":\"white\",\"ticks\":\"\"},\"bgcolor\":\"#E5ECF6\",\"radialaxis\":{\"gridcolor\":\"white\",\"linecolor\":\"white\",\"ticks\":\"\"}},\"scene\":{\"xaxis\":{\"backgroundcolor\":\"#E5ECF6\",\"gridcolor\":\"white\",\"gridwidth\":2,\"linecolor\":\"white\",\"showbackground\":true,\"ticks\":\"\",\"zerolinecolor\":\"white\"},\"yaxis\":{\"backgroundcolor\":\"#E5ECF6\",\"gridcolor\":\"white\",\"gridwidth\":2,\"linecolor\":\"white\",\"showbackground\":true,\"ticks\":\"\",\"zerolinecolor\":\"white\"},\"zaxis\":{\"backgroundcolor\":\"#E5ECF6\",\"gridcolor\":\"white\",\"gridwidth\":2,\"linecolor\":\"white\",\"showbackground\":true,\"ticks\":\"\",\"zerolinecolor\":\"white\"}},\"shapedefaults\":{\"line\":{\"color\":\"#2a3f5f\"}},\"ternary\":{\"aaxis\":{\"gridcolor\":\"white\",\"linecolor\":\"white\",\"ticks\":\"\"},\"baxis\":{\"gridcolor\":\"white\",\"linecolor\":\"white\",\"ticks\":\"\"},\"bgcolor\":\"#E5ECF6\",\"caxis\":{\"gridcolor\":\"white\",\"linecolor\":\"white\",\"ticks\":\"\"}},\"title\":{\"x\":0.05},\"xaxis\":{\"automargin\":true,\"gridcolor\":\"white\",\"linecolor\":\"white\",\"ticks\":\"\",\"title\":{\"standoff\":15},\"zerolinecolor\":\"white\",\"zerolinewidth\":2},\"yaxis\":{\"automargin\":true,\"gridcolor\":\"white\",\"linecolor\":\"white\",\"ticks\":\"\",\"title\":{\"standoff\":15},\"zerolinecolor\":\"white\",\"zerolinewidth\":2}}},\"xaxis\":{\"anchor\":\"y\",\"domain\":[0.0,1.0],\"title\":{\"text\":\"PC1\"}},\"yaxis\":{\"anchor\":\"x\",\"domain\":[0.0,1.0],\"title\":{\"text\":\"PC2\"}},\"legend\":{\"title\":{\"text\":\"color\"},\"tracegroupgap\":0},\"title\":{\"text\":\"PCA Representation of Cluster\"}},                        {\"responsive\": true}                    ).then(function(){\n",
              "                            \n",
              "var gd = document.getElementById('f220b057-caea-41a6-945b-affce0e784b2');\n",
              "var x = new MutationObserver(function (mutations, observer) {{\n",
              "        var display = window.getComputedStyle(gd).display;\n",
              "        if (!display || display === 'none') {{\n",
              "            console.log([gd, 'removed!']);\n",
              "            Plotly.purge(gd);\n",
              "            observer.disconnect();\n",
              "        }}\n",
              "}});\n",
              "\n",
              "// Listen for the removal of the full notebook cells\n",
              "var notebookContainer = gd.closest('#notebook-container');\n",
              "if (notebookContainer) {{\n",
              "    x.observe(notebookContainer, {childList: true});\n",
              "}}\n",
              "\n",
              "// Listen for the clearing of the current output cell\n",
              "var outputEl = gd.closest('.output');\n",
              "if (outputEl) {{\n",
              "    x.observe(outputEl, {childList: true});\n",
              "}}\n",
              "\n",
              "                        })                };                            </script>        </div>\n",
              "</body>\n",
              "</html>"
            ]
          },
          "metadata": {}
        }
      ]
    },
    {
      "cell_type": "code",
      "source": [],
      "metadata": {
        "id": "OvE5V90ZLTiS"
      },
      "execution_count": null,
      "outputs": []
    }
  ]
}